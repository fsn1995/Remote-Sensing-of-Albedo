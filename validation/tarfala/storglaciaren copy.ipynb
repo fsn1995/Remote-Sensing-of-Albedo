{
 "cells": [
  {
   "cell_type": "code",
   "execution_count": 1,
   "metadata": {},
   "outputs": [],
   "source": [
    "import geemap\n",
    "import ee\n",
    "import pandas as pd"
   ]
  },
  {
   "cell_type": "code",
   "execution_count": 2,
   "metadata": {},
   "outputs": [
    {
     "data": {
      "application/vnd.jupyter.widget-view+json": {
       "model_id": "845d875437cd47cb8d18411fc686e50a",
       "version_major": 2,
       "version_minor": 0
      },
      "text/plain": [
       "Map(center=[20, 0], controls=(WidgetControl(options=['position', 'transparent_bg'], widget=HBox(children=(Togg…"
      ]
     },
     "metadata": {},
     "output_type": "display_data"
    }
   ],
   "source": [
    "Map = geemap.Map()\n",
    "Map"
   ]
  },
  {
   "cell_type": "code",
   "execution_count": 3,
   "metadata": {},
   "outputs": [],
   "source": [
    "awsLat = 67.9030\n",
    "awsLon = 18.5726\n",
    "Map.add_basemap('HYBRID')\n",
    "aoi =  ee.FeatureCollection('GLIMS/current').filter(ee.Filter.inList('glac_name', ['Storglaciaren']))\n",
    "Map.addLayer(aoi)\n",
    "Map.centerObject(aoi, 14)"
   ]
  },
  {
   "cell_type": "markdown",
   "metadata": {},
   "source": [
    "# satellite data"
   ]
  },
  {
   "cell_type": "code",
   "execution_count": 4,
   "metadata": {},
   "outputs": [],
   "source": [
    "def addVisnirAlbedo(image):\n",
    "    albedo = image.expression(\n",
    "        '0.7605 * Blue + 0.8090 * Green - 1.8376 * Red + 0.9145 * NIR + 0.1627',\n",
    "        {\n",
    "            'Blue': image.select('Blue'),\n",
    "            'Green': image.select('Green'),\n",
    "            'Red': image.select('Red'),\n",
    "            'NIR': image.select('NIR')\n",
    "        }\n",
    "    ).rename('visnirAlbedo')\n",
    "    return image.addBands(albedo).copyProperties(image, ['system:time_start'])\n",
    "''''if vis-nir bands albedo'''\n",
    "# rmaCoefficients = {\n",
    "#   'itcpsL7': ee.Image.constant([-0.0084, -0.0065, 0.0022, -0.0768]),\n",
    "#   'slopesL7': ee.Image.constant([1.1017, 1.0840, 1.0610, 1.2100]),\n",
    "#   'itcpsS2': ee.Image.constant([0.0210, 0.0167, 0.0155, -0.0693]),\n",
    "#   'slopesS2': ee.Image.constant([1.0849, 1.0590, 1.0759, 1.1583])\n",
    "# }; #rma\n",
    "rmaCoefficients = {\n",
    "  'itcpsL7': ee.Image.constant([-0.0084, -0.0065, 0.0022, -0.0768, -0.0314, -0.0022]),\n",
    "  'slopesL7': ee.Image.constant([1.1017, 1.0840, 1.0610, 1.2100, 1.2039, 1.2402]),\n",
    "  'itcpsS2': ee.Image.constant([0.0210, 0.0167, 0.0155, -0.0693, -0.0039, -0.0112]),\n",
    "  'slopesS2': ee.Image.constant([1.0849, 1.0590, 1.0759, 1.1583, 1.0479, 1.0148])\n",
    "}; #rma\n",
    "\n"
   ]
  },
  {
   "cell_type": "code",
   "execution_count": 5,
   "metadata": {},
   "outputs": [],
   "source": [
    "# Function to get and rename bands of interest from OLI.\n",
    "def renameOli(img):\n",
    "  return img.select(\n",
    "    ['SR_B2', 'SR_B3', 'SR_B4', 'SR_B5', 'SR_B6', 'SR_B7'], #'QA_PIXEL', 'QA_RADSAT'\n",
    "    ['Blue',  'Green', 'Red',   'NIR',   'SWIR1', 'SWIR2']) #'QA_PIXEL', 'QA_RADSAT'\n",
    "\n",
    "# Function to get and rename bands of interest from ETM+, TM.\n",
    "def renameEtm(img):\n",
    "  return img.select(\n",
    "    ['SR_B1', 'SR_B2', 'SR_B3', 'SR_B4', 'SR_B5', 'SR_B7'], #,   'QA_PIXEL', 'QA_RADSAT'\n",
    "    ['Blue',  'Green', 'Red',   'NIR',   'SWIR1', 'SWIR2']) #, 'QA_PIXEL', 'QA_RADSAT'\n",
    "\n",
    "# Function to get and rename bands of interest from Sentinel 2.\n",
    "def renameS2(img):\n",
    "  return img.select(\n",
    "    ['B2',   'B3',    'B4',  'B8',  'B11',   'B12',   'QA60', 'SCL'],\n",
    "    ['Blue', 'Green', 'Red', 'NIR', 'SWIR1', 'SWIR2', 'QA60', 'SCL']\n",
    "  )\n",
    "\n",
    "def oli2oli(img):\n",
    "  return img.select(['Blue', 'Green', 'Red', 'NIR', 'SWIR1', 'SWIR2']) \\\n",
    "    .toFloat()\n",
    "\n",
    "def etm2oli(img):\n",
    "  return img.select(['Blue', 'Green', 'Red', 'NIR', 'SWIR1', 'SWIR2']) \\\n",
    "    .multiply(rmaCoefficients[\"slopesL7\"]) \\\n",
    "    .add(rmaCoefficients[\"itcpsL7\"]) \\\n",
    "    .toFloat()\n",
    "    # .round() \\\n",
    "    # .toShort() \n",
    "    # .addBands(img.select('pixel_qa'))\n",
    "\n",
    "def s22oli(img):\n",
    "  return img.select(['Blue', 'Green', 'Red', 'NIR', 'SWIR1', 'SWIR2']) \\\n",
    "    .multiply(rmaCoefficients[\"slopesS2\"]) \\\n",
    "    .add(rmaCoefficients[\"itcpsS2\"]) \\\n",
    "    .toFloat()\n",
    "    # .round() \\\n",
    "    # .toShort() # convert to Int16\n",
    "    # .addBands(img.select('pixel_qa'))\n",
    "\n",
    "def imRangeFilter(image):\n",
    "  maskMax = image.lt(1)\n",
    "  maskMin = image.gt(0)\n",
    "  return image.updateMask(maskMax).updateMask(maskMin)\n",
    "\n",
    "'''\n",
    "Cloud mask for Landsat data based on fmask (QA_PIXEL) and saturation mask \n",
    "based on QA_RADSAT.\n",
    "Cloud mask and saturation mask by sen2cor.\n",
    "Codes provided by GEE official. '''\n",
    "\n",
    "# the Landsat 8 Collection 2\n",
    "def maskL8sr(image):\n",
    "  # Bit 0 - Fill\n",
    "  # Bit 1 - Dilated Cloud\n",
    "  # Bit 2 - Cirrus\n",
    "  # Bit 3 - Cloud\n",
    "  # Bit 4 - Cloud Shadow\n",
    "  qaMask = image.select('QA_PIXEL').bitwiseAnd(int('11111', 2)).eq(0)\n",
    "  saturationMask = image.select('QA_RADSAT').eq(0)\n",
    "\n",
    "  # Apply the scaling factors to the appropriate bands.\n",
    "  # opticalBands = image.select('SR_B.').multiply(0.0000275).add(-0.2)\n",
    "  # thermalBands = image.select('ST_B.*').multiply(0.00341802).add(149.0)\n",
    "\n",
    "  # Replace the original bands with the scaled ones and apply the masks.\n",
    "  #image.addBands(opticalBands, {}, True) \\ maybe not available in python api\n",
    "  return image.select('SR_B.').multiply(0.0000275).add(-0.2) \\\n",
    "    .updateMask(saturationMask)\n",
    "\n",
    "  \n",
    "# the Landsat 4, 5, 7 Collection 2\n",
    "def maskL457sr(image):\n",
    "  # Bit 0 - Fill\n",
    "  # Bit 1 - Dilated Cloud\n",
    "  # Bit 2 - Unused\n",
    "  # Bit 3 - Cloud\n",
    "  # Bit 4 - Cloud Shadow\n",
    "  qaMask = image.select('QA_PIXEL').bitwiseAnd(int('11111', 2)).eq(0)\n",
    "  saturationMask = image.select('QA_RADSAT').eq(0)\n",
    "\n",
    "  # Apply the scaling factors to the appropriate bands.\n",
    "  # opticalBands = image.select('SR_B.')\n",
    "  # opticalBands = image.select('SR_B.').multiply(0.0000275).add(-0.2)\n",
    "  # thermalBand = image.select('ST_B6').multiply(0.00341802).add(149.0)\n",
    "\n",
    "  # Replace the original bands with the scaled ones and apply the masks.\n",
    "  return image.select('SR_B.').multiply(0.0000275).add(-0.2) \\\n",
    "      .updateMask(saturationMask)\n",
    " #\n",
    " # Function to mask clouds using the Sentinel-2 QA band\n",
    " # @param {ee.Image} image Sentinel-2 image\n",
    " # @return {ee.Image} cloud masked Sentinel-2 image\n",
    " #\n",
    "def maskS2sr(image):\n",
    "  qa = image.select('QA60')\n",
    "\n",
    "  # Bits 10 and 11 are clouds and cirrus, respectively.\n",
    "  cloudBitMask = 1 << 10\n",
    "  cirrusBitMask = 1 << 11\n",
    "  # Bits 1 is saturated or defective pixel\n",
    "  not_saturated = image.select('SCL').neq(1)\n",
    "  # Both flags should be set to zero, indicating clear conditions.\n",
    "  mask = qa.bitwiseAnd(cloudBitMask).eq(0) \\\n",
    "      .And(qa.bitwiseAnd(cirrusBitMask).eq(0)) \n",
    "\n",
    "  return image.updateMask(mask).updateMask(not_saturated)\n"
   ]
  },
  {
   "cell_type": "code",
   "execution_count": 6,
   "metadata": {},
   "outputs": [],
   "source": [
    "# Define function to prepare OLI images.\n",
    "def prepOli(img):\n",
    "  orig = img\n",
    "  img = maskL8sr(img)\n",
    "  img = renameOli(img)\n",
    "  img = oli2oli(img)\n",
    "  img = imRangeFilter(img)\n",
    "  img = addVisnirAlbedo(img)\n",
    "  return ee.Image(img.copyProperties(orig, orig.propertyNames()))\n",
    "\n",
    "# Define function to prepare ETM+/TM images.\n",
    "def prepEtm(img):\n",
    "  orig = img\n",
    "  img = maskL457sr(img)\n",
    "  img = renameEtm(img)\n",
    "  img = etm2oli(img)\n",
    "  img = imRangeFilter(img)\n",
    "  img = addVisnirAlbedo(img)\n",
    "  return ee.Image(img.copyProperties(orig, orig.propertyNames()))\n",
    "\n",
    "# Define function to prepare S2 images.\n",
    "def prepS2(img):\n",
    "  orig = img\n",
    "  img = renameS2(img)\n",
    "  img = maskS2sr(img)\n",
    "  img = s22oli(img)\n",
    "  img = imRangeFilter(img)\n",
    "  img = addVisnirAlbedo(img)\n",
    "  return ee.Image(img.copyProperties(orig, orig.propertyNames()).set('SATELLITE', 'SENTINEL_2'))\n"
   ]
  },
  {
   "cell_type": "code",
   "execution_count": 7,
   "metadata": {},
   "outputs": [],
   "source": [
    "l8 = prepOli(ee.Image(\"LANDSAT/LC08/C02/T1_L2/LC08_196012_20210704\"))\n",
    "\n",
    "Map.addLayer(l8, {\n",
    "    'min':0,\n",
    "    'max':1,\n",
    "    'bands':['Red', 'Green', 'Blue']\n",
    "},'l8')    \n"
   ]
  }
 ],
 "metadata": {
  "interpreter": {
   "hash": "ada930dfaf49c70a7ee64ff67ccb5b3fcbf1b37de14f1a925a66f2c79ddc67d5"
  },
  "kernelspec": {
   "display_name": "Python 3.8.0 ('gee')",
   "language": "python",
   "name": "python3"
  },
  "language_info": {
   "codemirror_mode": {
    "name": "ipython",
    "version": 3
   },
   "file_extension": ".py",
   "mimetype": "text/x-python",
   "name": "python",
   "nbconvert_exporter": "python",
   "pygments_lexer": "ipython3",
   "version": "3.8.0"
  },
  "orig_nbformat": 4
 },
 "nbformat": 4,
 "nbformat_minor": 2
}
