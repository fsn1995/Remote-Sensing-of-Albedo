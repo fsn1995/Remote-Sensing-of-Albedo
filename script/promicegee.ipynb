{
 "cells": [
  {
   "cell_type": "markdown",
   "metadata": {},
   "source": [
    "This notebook first displays the location of PROMICE AWSs and calculated the annual velocity based on the GPS record.\n",
    "Then it will extract the satellite pixel values and MODIS albedo prodcut at each AWS site.\n",
    "Results will be saved in csv files under the promice folder. \n",
    "\n",
    "\n",
    "Users should change the size of spatial window when extracting the pixel values. "
   ]
  },
  {
   "cell_type": "code",
   "execution_count": 2,
   "metadata": {},
   "outputs": [],
   "source": [
    "import geemap\n",
    "import ee\n",
    "import pandas as pd\n",
    "import utm\n",
    "import numpy as np\n",
    "import plotly.express as px"
   ]
  },
  {
   "cell_type": "markdown",
   "metadata": {},
   "source": [
    "# PROMICE"
   ]
  },
  {
   "cell_type": "code",
   "execution_count": 3,
   "metadata": {},
   "outputs": [],
   "source": [
    "df = pd.read_csv(r'promice/promice.csv')\n",
    "df['Longitude'] = df['Longitude'] * -1\n",
    "df['velocity(m/y)'] = df['Longitude'] # just create a new column by copying longitude"
   ]
  },
  {
   "cell_type": "code",
   "execution_count": null,
   "metadata": {},
   "outputs": [],
   "source": [
    "i = 0\n",
    "for station in df.Station:\n",
    "    # url = df.iloc[i]['url']\n",
    "    url = df.url[i]\n",
    "    dfs = pd.read_table(url, sep=r'\\s{1,}', engine='python')\n",
    "    dfs = dfs[(dfs['Albedo_theta<70d'] > 0) & (dfs['LatitudeGPS_HDOP<1(degN)'] > 0) & (dfs['LatitudeGPS_HDOP<1(degN)'] >0)]\n",
    "    dfs['LongitudeGPS_HDOP<1(degW)'] = dfs['LongitudeGPS_HDOP<1(degW)'] * -1\n",
    "    lat = dfs['LatitudeGPS_HDOP<1(degN)']\n",
    "    lon = dfs['LongitudeGPS_HDOP<1(degW)']\n",
    "    utmx, utmy, utmzoneNum, utmzoneLetter = utm.from_latlon(lat.values, lon.values)\n",
    "    dist = np.sqrt((utmx[0] - utmx[-1])**2 + (utmy[0] - utmy[-1])**2) / (dfs.DayOfCentury.tail(1).values - dfs.DayOfCentury.head(1).values) * 365\n",
    "    df.at[i, 'velocity(m/y)'] = np.around(dist, 2)\n",
    "    print('The station is: %s lat: %f, lon: %f' % (df.Station[i],  lat.mean(),  lon.mean()) )\n",
    "    print(\"the annual average ice flow rate is %.2f m\\N{DOT OPERATOR}a\\u207B\\N{SUPERSCRIPT ONE}\" %dist)\n",
    "    i += 1\n",
    "    "
   ]
  },
  {
   "cell_type": "code",
   "execution_count": 15,
   "metadata": {},
   "outputs": [
    {
     "data": {
      "application/vnd.plotly.v1+json": {
       "config": {
        "plotlyServerURL": "https://plot.ly"
       },
       "data": [
        {
         "customdata": [
          [
           370,
           69
          ],
          [
           870,
           64.9
          ],
          [
           2660,
           61.4
          ],
          [
           460,
           84.51
          ],
          [
           970,
           113.62
          ],
          [
           440,
           14.6
          ],
          [
           250,
           77.71
          ],
          [
           570,
           52.86
          ],
          [
           890,
           95.73
          ],
          [
           280,
           108.74
          ],
          [
           630,
           32.99
          ],
          [
           900,
           53.31
          ],
          [
           1000,
           87.1
          ],
          [
           530,
           88.19
          ],
          [
           1120,
           119.05
          ],
          [
           710,
           0.29
          ],
          [
           920,
           23.73
          ],
          [
           670,
           105.81
          ],
          [
           1270,
           88.37
          ],
          [
           1840,
           52.84
          ],
          [
           220,
           21.74
          ],
          [
           940,
           211.87
          ],
          [
           570,
           13.6
          ],
          [
           760,
           9.79
          ],
          [
           1880,
           0
          ]
         ],
         "hovertemplate": "<b>%{hovertext}</b><br><br>Latitude=%{lat}<br>Longitude=%{lon}<br>m.a.s.l=%{customdata[0]}<br>velocity(m/y)=%{customdata[1]}<extra></extra>",
         "hovertext": [
          "KPC_L",
          "KPC_U",
          "EGP",
          "SCO_L",
          "SCO_U",
          "MIT*",
          "TAS_L",
          "TAS_U***",
          "TAS_A",
          "QAS_L",
          "QAS_M",
          "QAS_U",
          "QAS_A***",
          "NUK_L",
          "NUK_U",
          "NUK_K*",
          "NUK_N***",
          "KAN_L",
          "KAN_M",
          "KAN_U",
          "UPE_L",
          "UPE_U",
          "THU_L",
          "THU_U",
          "CEN"
         ],
         "lat": [
          79.9108,
          79.8347,
          75.6247,
          72.223,
          72.3933,
          65.6922,
          65.6402,
          65.6978,
          65.779,
          61.0308,
          61.0998,
          61.1753,
          61.243,
          64.4822,
          64.5108,
          64.1623,
          64.9452,
          67.0955,
          67.067,
          67.0003,
          72.8932,
          72.8878,
          76.3998,
          76.4197,
          77.1333
         ],
         "legendgroup": "",
         "lon": [
          -24.0828,
          -25.1662,
          -35.9748,
          -26.8182,
          -27.2333,
          -37.828,
          -38.8987,
          -38.8668,
          -38.8995,
          -46.8493,
          -46.833,
          -46.8195,
          -46.7328,
          -49.5358,
          -49.2692,
          -51.3587,
          -49.885,
          -49.9513,
          -48.8355,
          -47.0253,
          -54.2955,
          -53.5783,
          -68.2665,
          -68.1463,
          -61.0333
         ],
         "marker": {
          "color": "#636efa"
         },
         "mode": "markers",
         "name": "",
         "showlegend": false,
         "subplot": "mapbox",
         "type": "scattermapbox"
        }
       ],
       "layout": {
        "height": 500,
        "legend": {
         "tracegroupgap": 0
        },
        "mapbox": {
         "accesstoken": "pk.eyJ1IjoiZ2VvZnNuIiwiYSI6ImNrbHhoZTNqaDJzenYydm53eWE0bnhvejcifQ.1Zy40CrTJdKz_vOOl9uKBw",
         "center": {
          "lat": 72.603506,
          "lon": -41.352658
         },
         "domain": {
          "x": [
           0,
           1
          ],
          "y": [
           0,
           1
          ]
         },
         "style": "satellite",
         "zoom": 2
        },
        "margin": {
         "b": 0,
         "l": 0,
         "r": 0,
         "t": 0
        },
        "template": {
         "data": {
          "bar": [
           {
            "error_x": {
             "color": "#2a3f5f"
            },
            "error_y": {
             "color": "#2a3f5f"
            },
            "marker": {
             "line": {
              "color": "#E5ECF6",
              "width": 0.5
             },
             "pattern": {
              "fillmode": "overlay",
              "size": 10,
              "solidity": 0.2
             }
            },
            "type": "bar"
           }
          ],
          "barpolar": [
           {
            "marker": {
             "line": {
              "color": "#E5ECF6",
              "width": 0.5
             },
             "pattern": {
              "fillmode": "overlay",
              "size": 10,
              "solidity": 0.2
             }
            },
            "type": "barpolar"
           }
          ],
          "carpet": [
           {
            "aaxis": {
             "endlinecolor": "#2a3f5f",
             "gridcolor": "white",
             "linecolor": "white",
             "minorgridcolor": "white",
             "startlinecolor": "#2a3f5f"
            },
            "baxis": {
             "endlinecolor": "#2a3f5f",
             "gridcolor": "white",
             "linecolor": "white",
             "minorgridcolor": "white",
             "startlinecolor": "#2a3f5f"
            },
            "type": "carpet"
           }
          ],
          "choropleth": [
           {
            "colorbar": {
             "outlinewidth": 0,
             "ticks": ""
            },
            "type": "choropleth"
           }
          ],
          "contour": [
           {
            "colorbar": {
             "outlinewidth": 0,
             "ticks": ""
            },
            "colorscale": [
             [
              0,
              "#0d0887"
             ],
             [
              0.1111111111111111,
              "#46039f"
             ],
             [
              0.2222222222222222,
              "#7201a8"
             ],
             [
              0.3333333333333333,
              "#9c179e"
             ],
             [
              0.4444444444444444,
              "#bd3786"
             ],
             [
              0.5555555555555556,
              "#d8576b"
             ],
             [
              0.6666666666666666,
              "#ed7953"
             ],
             [
              0.7777777777777778,
              "#fb9f3a"
             ],
             [
              0.8888888888888888,
              "#fdca26"
             ],
             [
              1,
              "#f0f921"
             ]
            ],
            "type": "contour"
           }
          ],
          "contourcarpet": [
           {
            "colorbar": {
             "outlinewidth": 0,
             "ticks": ""
            },
            "type": "contourcarpet"
           }
          ],
          "heatmap": [
           {
            "colorbar": {
             "outlinewidth": 0,
             "ticks": ""
            },
            "colorscale": [
             [
              0,
              "#0d0887"
             ],
             [
              0.1111111111111111,
              "#46039f"
             ],
             [
              0.2222222222222222,
              "#7201a8"
             ],
             [
              0.3333333333333333,
              "#9c179e"
             ],
             [
              0.4444444444444444,
              "#bd3786"
             ],
             [
              0.5555555555555556,
              "#d8576b"
             ],
             [
              0.6666666666666666,
              "#ed7953"
             ],
             [
              0.7777777777777778,
              "#fb9f3a"
             ],
             [
              0.8888888888888888,
              "#fdca26"
             ],
             [
              1,
              "#f0f921"
             ]
            ],
            "type": "heatmap"
           }
          ],
          "heatmapgl": [
           {
            "colorbar": {
             "outlinewidth": 0,
             "ticks": ""
            },
            "colorscale": [
             [
              0,
              "#0d0887"
             ],
             [
              0.1111111111111111,
              "#46039f"
             ],
             [
              0.2222222222222222,
              "#7201a8"
             ],
             [
              0.3333333333333333,
              "#9c179e"
             ],
             [
              0.4444444444444444,
              "#bd3786"
             ],
             [
              0.5555555555555556,
              "#d8576b"
             ],
             [
              0.6666666666666666,
              "#ed7953"
             ],
             [
              0.7777777777777778,
              "#fb9f3a"
             ],
             [
              0.8888888888888888,
              "#fdca26"
             ],
             [
              1,
              "#f0f921"
             ]
            ],
            "type": "heatmapgl"
           }
          ],
          "histogram": [
           {
            "marker": {
             "pattern": {
              "fillmode": "overlay",
              "size": 10,
              "solidity": 0.2
             }
            },
            "type": "histogram"
           }
          ],
          "histogram2d": [
           {
            "colorbar": {
             "outlinewidth": 0,
             "ticks": ""
            },
            "colorscale": [
             [
              0,
              "#0d0887"
             ],
             [
              0.1111111111111111,
              "#46039f"
             ],
             [
              0.2222222222222222,
              "#7201a8"
             ],
             [
              0.3333333333333333,
              "#9c179e"
             ],
             [
              0.4444444444444444,
              "#bd3786"
             ],
             [
              0.5555555555555556,
              "#d8576b"
             ],
             [
              0.6666666666666666,
              "#ed7953"
             ],
             [
              0.7777777777777778,
              "#fb9f3a"
             ],
             [
              0.8888888888888888,
              "#fdca26"
             ],
             [
              1,
              "#f0f921"
             ]
            ],
            "type": "histogram2d"
           }
          ],
          "histogram2dcontour": [
           {
            "colorbar": {
             "outlinewidth": 0,
             "ticks": ""
            },
            "colorscale": [
             [
              0,
              "#0d0887"
             ],
             [
              0.1111111111111111,
              "#46039f"
             ],
             [
              0.2222222222222222,
              "#7201a8"
             ],
             [
              0.3333333333333333,
              "#9c179e"
             ],
             [
              0.4444444444444444,
              "#bd3786"
             ],
             [
              0.5555555555555556,
              "#d8576b"
             ],
             [
              0.6666666666666666,
              "#ed7953"
             ],
             [
              0.7777777777777778,
              "#fb9f3a"
             ],
             [
              0.8888888888888888,
              "#fdca26"
             ],
             [
              1,
              "#f0f921"
             ]
            ],
            "type": "histogram2dcontour"
           }
          ],
          "mesh3d": [
           {
            "colorbar": {
             "outlinewidth": 0,
             "ticks": ""
            },
            "type": "mesh3d"
           }
          ],
          "parcoords": [
           {
            "line": {
             "colorbar": {
              "outlinewidth": 0,
              "ticks": ""
             }
            },
            "type": "parcoords"
           }
          ],
          "pie": [
           {
            "automargin": true,
            "type": "pie"
           }
          ],
          "scatter": [
           {
            "marker": {
             "colorbar": {
              "outlinewidth": 0,
              "ticks": ""
             }
            },
            "type": "scatter"
           }
          ],
          "scatter3d": [
           {
            "line": {
             "colorbar": {
              "outlinewidth": 0,
              "ticks": ""
             }
            },
            "marker": {
             "colorbar": {
              "outlinewidth": 0,
              "ticks": ""
             }
            },
            "type": "scatter3d"
           }
          ],
          "scattercarpet": [
           {
            "marker": {
             "colorbar": {
              "outlinewidth": 0,
              "ticks": ""
             }
            },
            "type": "scattercarpet"
           }
          ],
          "scattergeo": [
           {
            "marker": {
             "colorbar": {
              "outlinewidth": 0,
              "ticks": ""
             }
            },
            "type": "scattergeo"
           }
          ],
          "scattergl": [
           {
            "marker": {
             "colorbar": {
              "outlinewidth": 0,
              "ticks": ""
             }
            },
            "type": "scattergl"
           }
          ],
          "scattermapbox": [
           {
            "marker": {
             "colorbar": {
              "outlinewidth": 0,
              "ticks": ""
             }
            },
            "type": "scattermapbox"
           }
          ],
          "scatterpolar": [
           {
            "marker": {
             "colorbar": {
              "outlinewidth": 0,
              "ticks": ""
             }
            },
            "type": "scatterpolar"
           }
          ],
          "scatterpolargl": [
           {
            "marker": {
             "colorbar": {
              "outlinewidth": 0,
              "ticks": ""
             }
            },
            "type": "scatterpolargl"
           }
          ],
          "scatterternary": [
           {
            "marker": {
             "colorbar": {
              "outlinewidth": 0,
              "ticks": ""
             }
            },
            "type": "scatterternary"
           }
          ],
          "surface": [
           {
            "colorbar": {
             "outlinewidth": 0,
             "ticks": ""
            },
            "colorscale": [
             [
              0,
              "#0d0887"
             ],
             [
              0.1111111111111111,
              "#46039f"
             ],
             [
              0.2222222222222222,
              "#7201a8"
             ],
             [
              0.3333333333333333,
              "#9c179e"
             ],
             [
              0.4444444444444444,
              "#bd3786"
             ],
             [
              0.5555555555555556,
              "#d8576b"
             ],
             [
              0.6666666666666666,
              "#ed7953"
             ],
             [
              0.7777777777777778,
              "#fb9f3a"
             ],
             [
              0.8888888888888888,
              "#fdca26"
             ],
             [
              1,
              "#f0f921"
             ]
            ],
            "type": "surface"
           }
          ],
          "table": [
           {
            "cells": {
             "fill": {
              "color": "#EBF0F8"
             },
             "line": {
              "color": "white"
             }
            },
            "header": {
             "fill": {
              "color": "#C8D4E3"
             },
             "line": {
              "color": "white"
             }
            },
            "type": "table"
           }
          ]
         },
         "layout": {
          "annotationdefaults": {
           "arrowcolor": "#2a3f5f",
           "arrowhead": 0,
           "arrowwidth": 1
          },
          "autotypenumbers": "strict",
          "coloraxis": {
           "colorbar": {
            "outlinewidth": 0,
            "ticks": ""
           }
          },
          "colorscale": {
           "diverging": [
            [
             0,
             "#8e0152"
            ],
            [
             0.1,
             "#c51b7d"
            ],
            [
             0.2,
             "#de77ae"
            ],
            [
             0.3,
             "#f1b6da"
            ],
            [
             0.4,
             "#fde0ef"
            ],
            [
             0.5,
             "#f7f7f7"
            ],
            [
             0.6,
             "#e6f5d0"
            ],
            [
             0.7,
             "#b8e186"
            ],
            [
             0.8,
             "#7fbc41"
            ],
            [
             0.9,
             "#4d9221"
            ],
            [
             1,
             "#276419"
            ]
           ],
           "sequential": [
            [
             0,
             "#0d0887"
            ],
            [
             0.1111111111111111,
             "#46039f"
            ],
            [
             0.2222222222222222,
             "#7201a8"
            ],
            [
             0.3333333333333333,
             "#9c179e"
            ],
            [
             0.4444444444444444,
             "#bd3786"
            ],
            [
             0.5555555555555556,
             "#d8576b"
            ],
            [
             0.6666666666666666,
             "#ed7953"
            ],
            [
             0.7777777777777778,
             "#fb9f3a"
            ],
            [
             0.8888888888888888,
             "#fdca26"
            ],
            [
             1,
             "#f0f921"
            ]
           ],
           "sequentialminus": [
            [
             0,
             "#0d0887"
            ],
            [
             0.1111111111111111,
             "#46039f"
            ],
            [
             0.2222222222222222,
             "#7201a8"
            ],
            [
             0.3333333333333333,
             "#9c179e"
            ],
            [
             0.4444444444444444,
             "#bd3786"
            ],
            [
             0.5555555555555556,
             "#d8576b"
            ],
            [
             0.6666666666666666,
             "#ed7953"
            ],
            [
             0.7777777777777778,
             "#fb9f3a"
            ],
            [
             0.8888888888888888,
             "#fdca26"
            ],
            [
             1,
             "#f0f921"
            ]
           ]
          },
          "colorway": [
           "#636efa",
           "#EF553B",
           "#00cc96",
           "#ab63fa",
           "#FFA15A",
           "#19d3f3",
           "#FF6692",
           "#B6E880",
           "#FF97FF",
           "#FECB52"
          ],
          "font": {
           "color": "#2a3f5f"
          },
          "geo": {
           "bgcolor": "white",
           "lakecolor": "white",
           "landcolor": "#E5ECF6",
           "showlakes": true,
           "showland": true,
           "subunitcolor": "white"
          },
          "hoverlabel": {
           "align": "left"
          },
          "hovermode": "closest",
          "mapbox": {
           "style": "light"
          },
          "paper_bgcolor": "white",
          "plot_bgcolor": "#E5ECF6",
          "polar": {
           "angularaxis": {
            "gridcolor": "white",
            "linecolor": "white",
            "ticks": ""
           },
           "bgcolor": "#E5ECF6",
           "radialaxis": {
            "gridcolor": "white",
            "linecolor": "white",
            "ticks": ""
           }
          },
          "scene": {
           "xaxis": {
            "backgroundcolor": "#E5ECF6",
            "gridcolor": "white",
            "gridwidth": 2,
            "linecolor": "white",
            "showbackground": true,
            "ticks": "",
            "zerolinecolor": "white"
           },
           "yaxis": {
            "backgroundcolor": "#E5ECF6",
            "gridcolor": "white",
            "gridwidth": 2,
            "linecolor": "white",
            "showbackground": true,
            "ticks": "",
            "zerolinecolor": "white"
           },
           "zaxis": {
            "backgroundcolor": "#E5ECF6",
            "gridcolor": "white",
            "gridwidth": 2,
            "linecolor": "white",
            "showbackground": true,
            "ticks": "",
            "zerolinecolor": "white"
           }
          },
          "shapedefaults": {
           "line": {
            "color": "#2a3f5f"
           }
          },
          "ternary": {
           "aaxis": {
            "gridcolor": "white",
            "linecolor": "white",
            "ticks": ""
           },
           "baxis": {
            "gridcolor": "white",
            "linecolor": "white",
            "ticks": ""
           },
           "bgcolor": "#E5ECF6",
           "caxis": {
            "gridcolor": "white",
            "linecolor": "white",
            "ticks": ""
           }
          },
          "title": {
           "x": 0.05
          },
          "xaxis": {
           "automargin": true,
           "gridcolor": "white",
           "linecolor": "white",
           "ticks": "",
           "title": {
            "standoff": 15
           },
           "zerolinecolor": "white",
           "zerolinewidth": 2
          },
          "yaxis": {
           "automargin": true,
           "gridcolor": "white",
           "linecolor": "white",
           "ticks": "",
           "title": {
            "standoff": 15
           },
           "zerolinecolor": "white",
           "zerolinewidth": 2
          }
         }
        },
        "width": 650
       }
      },
      "text/html": [
       "<div>                            <div id=\"675f7408-9bfd-4cfc-a83a-f15ceb91694b\" class=\"plotly-graph-div\" style=\"height:500px; width:650px;\"></div>            <script type=\"text/javascript\">                require([\"plotly\"], function(Plotly) {                    window.PLOTLYENV=window.PLOTLYENV || {};                                    if (document.getElementById(\"675f7408-9bfd-4cfc-a83a-f15ceb91694b\")) {                    Plotly.newPlot(                        \"675f7408-9bfd-4cfc-a83a-f15ceb91694b\",                        [{\"customdata\":[[370.0,69.0],[870.0,64.9],[2660.0,61.4],[460.0,84.51],[970.0,113.62],[440.0,14.6],[250.0,77.71],[570.0,52.86],[890.0,95.73],[280.0,108.74],[630.0,32.99],[900.0,53.31],[1000.0,87.1],[530.0,88.19],[1120.0,119.05],[710.0,0.29],[920.0,23.73],[670.0,105.81],[1270.0,88.37],[1840.0,52.84],[220.0,21.74],[940.0,211.87],[570.0,13.6],[760.0,9.79],[1880.0,0.0]],\"hovertemplate\":\"<b>%{hovertext}</b><br><br>Latitude=%{lat}<br>Longitude=%{lon}<br>m.a.s.l=%{customdata[0]}<br>velocity(m/y)=%{customdata[1]}<extra></extra>\",\"hovertext\":[\"KPC_L\",\"KPC_U\",\"EGP\",\"SCO_L\",\"SCO_U\",\"MIT*\",\"TAS_L\",\"TAS_U***\",\"TAS_A\",\"QAS_L\",\"QAS_M\",\"QAS_U\",\"QAS_A***\",\"NUK_L\",\"NUK_U\",\"NUK_K*\",\"NUK_N***\",\"KAN_L\",\"KAN_M\",\"KAN_U\",\"UPE_L\",\"UPE_U\",\"THU_L\",\"THU_U\",\"CEN\"],\"lat\":[79.9108,79.8347,75.6247,72.223,72.3933,65.6922,65.6402,65.6978,65.779,61.0308,61.0998,61.1753,61.243,64.4822,64.5108,64.1623,64.9452,67.0955,67.067,67.0003,72.8932,72.8878,76.3998,76.4197,77.1333],\"legendgroup\":\"\",\"lon\":[-24.0828,-25.1662,-35.9748,-26.8182,-27.2333,-37.828,-38.8987,-38.8668,-38.8995,-46.8493,-46.833,-46.8195,-46.7328,-49.5358,-49.2692,-51.3587,-49.885,-49.9513,-48.8355,-47.0253,-54.2955,-53.5783,-68.2665,-68.1463,-61.0333],\"marker\":{\"color\":\"#636efa\"},\"mode\":\"markers\",\"name\":\"\",\"showlegend\":false,\"subplot\":\"mapbox\",\"type\":\"scattermapbox\"}],                        {\"height\":500,\"legend\":{\"tracegroupgap\":0},\"mapbox\":{\"accesstoken\":\"pk.eyJ1IjoiZ2VvZnNuIiwiYSI6ImNrbHhoZTNqaDJzenYydm53eWE0bnhvejcifQ.1Zy40CrTJdKz_vOOl9uKBw\",\"center\":{\"lat\":72.603506,\"lon\":-41.352658},\"domain\":{\"x\":[0.0,1.0],\"y\":[0.0,1.0]},\"style\":\"satellite\",\"zoom\":2},\"margin\":{\"b\":0,\"l\":0,\"r\":0,\"t\":0},\"template\":{\"data\":{\"bar\":[{\"error_x\":{\"color\":\"#2a3f5f\"},\"error_y\":{\"color\":\"#2a3f5f\"},\"marker\":{\"line\":{\"color\":\"#E5ECF6\",\"width\":0.5},\"pattern\":{\"fillmode\":\"overlay\",\"size\":10,\"solidity\":0.2}},\"type\":\"bar\"}],\"barpolar\":[{\"marker\":{\"line\":{\"color\":\"#E5ECF6\",\"width\":0.5},\"pattern\":{\"fillmode\":\"overlay\",\"size\":10,\"solidity\":0.2}},\"type\":\"barpolar\"}],\"carpet\":[{\"aaxis\":{\"endlinecolor\":\"#2a3f5f\",\"gridcolor\":\"white\",\"linecolor\":\"white\",\"minorgridcolor\":\"white\",\"startlinecolor\":\"#2a3f5f\"},\"baxis\":{\"endlinecolor\":\"#2a3f5f\",\"gridcolor\":\"white\",\"linecolor\":\"white\",\"minorgridcolor\":\"white\",\"startlinecolor\":\"#2a3f5f\"},\"type\":\"carpet\"}],\"choropleth\":[{\"colorbar\":{\"outlinewidth\":0,\"ticks\":\"\"},\"type\":\"choropleth\"}],\"contour\":[{\"colorbar\":{\"outlinewidth\":0,\"ticks\":\"\"},\"colorscale\":[[0.0,\"#0d0887\"],[0.1111111111111111,\"#46039f\"],[0.2222222222222222,\"#7201a8\"],[0.3333333333333333,\"#9c179e\"],[0.4444444444444444,\"#bd3786\"],[0.5555555555555556,\"#d8576b\"],[0.6666666666666666,\"#ed7953\"],[0.7777777777777778,\"#fb9f3a\"],[0.8888888888888888,\"#fdca26\"],[1.0,\"#f0f921\"]],\"type\":\"contour\"}],\"contourcarpet\":[{\"colorbar\":{\"outlinewidth\":0,\"ticks\":\"\"},\"type\":\"contourcarpet\"}],\"heatmap\":[{\"colorbar\":{\"outlinewidth\":0,\"ticks\":\"\"},\"colorscale\":[[0.0,\"#0d0887\"],[0.1111111111111111,\"#46039f\"],[0.2222222222222222,\"#7201a8\"],[0.3333333333333333,\"#9c179e\"],[0.4444444444444444,\"#bd3786\"],[0.5555555555555556,\"#d8576b\"],[0.6666666666666666,\"#ed7953\"],[0.7777777777777778,\"#fb9f3a\"],[0.8888888888888888,\"#fdca26\"],[1.0,\"#f0f921\"]],\"type\":\"heatmap\"}],\"heatmapgl\":[{\"colorbar\":{\"outlinewidth\":0,\"ticks\":\"\"},\"colorscale\":[[0.0,\"#0d0887\"],[0.1111111111111111,\"#46039f\"],[0.2222222222222222,\"#7201a8\"],[0.3333333333333333,\"#9c179e\"],[0.4444444444444444,\"#bd3786\"],[0.5555555555555556,\"#d8576b\"],[0.6666666666666666,\"#ed7953\"],[0.7777777777777778,\"#fb9f3a\"],[0.8888888888888888,\"#fdca26\"],[1.0,\"#f0f921\"]],\"type\":\"heatmapgl\"}],\"histogram\":[{\"marker\":{\"pattern\":{\"fillmode\":\"overlay\",\"size\":10,\"solidity\":0.2}},\"type\":\"histogram\"}],\"histogram2d\":[{\"colorbar\":{\"outlinewidth\":0,\"ticks\":\"\"},\"colorscale\":[[0.0,\"#0d0887\"],[0.1111111111111111,\"#46039f\"],[0.2222222222222222,\"#7201a8\"],[0.3333333333333333,\"#9c179e\"],[0.4444444444444444,\"#bd3786\"],[0.5555555555555556,\"#d8576b\"],[0.6666666666666666,\"#ed7953\"],[0.7777777777777778,\"#fb9f3a\"],[0.8888888888888888,\"#fdca26\"],[1.0,\"#f0f921\"]],\"type\":\"histogram2d\"}],\"histogram2dcontour\":[{\"colorbar\":{\"outlinewidth\":0,\"ticks\":\"\"},\"colorscale\":[[0.0,\"#0d0887\"],[0.1111111111111111,\"#46039f\"],[0.2222222222222222,\"#7201a8\"],[0.3333333333333333,\"#9c179e\"],[0.4444444444444444,\"#bd3786\"],[0.5555555555555556,\"#d8576b\"],[0.6666666666666666,\"#ed7953\"],[0.7777777777777778,\"#fb9f3a\"],[0.8888888888888888,\"#fdca26\"],[1.0,\"#f0f921\"]],\"type\":\"histogram2dcontour\"}],\"mesh3d\":[{\"colorbar\":{\"outlinewidth\":0,\"ticks\":\"\"},\"type\":\"mesh3d\"}],\"parcoords\":[{\"line\":{\"colorbar\":{\"outlinewidth\":0,\"ticks\":\"\"}},\"type\":\"parcoords\"}],\"pie\":[{\"automargin\":true,\"type\":\"pie\"}],\"scatter\":[{\"marker\":{\"colorbar\":{\"outlinewidth\":0,\"ticks\":\"\"}},\"type\":\"scatter\"}],\"scatter3d\":[{\"line\":{\"colorbar\":{\"outlinewidth\":0,\"ticks\":\"\"}},\"marker\":{\"colorbar\":{\"outlinewidth\":0,\"ticks\":\"\"}},\"type\":\"scatter3d\"}],\"scattercarpet\":[{\"marker\":{\"colorbar\":{\"outlinewidth\":0,\"ticks\":\"\"}},\"type\":\"scattercarpet\"}],\"scattergeo\":[{\"marker\":{\"colorbar\":{\"outlinewidth\":0,\"ticks\":\"\"}},\"type\":\"scattergeo\"}],\"scattergl\":[{\"marker\":{\"colorbar\":{\"outlinewidth\":0,\"ticks\":\"\"}},\"type\":\"scattergl\"}],\"scattermapbox\":[{\"marker\":{\"colorbar\":{\"outlinewidth\":0,\"ticks\":\"\"}},\"type\":\"scattermapbox\"}],\"scatterpolar\":[{\"marker\":{\"colorbar\":{\"outlinewidth\":0,\"ticks\":\"\"}},\"type\":\"scatterpolar\"}],\"scatterpolargl\":[{\"marker\":{\"colorbar\":{\"outlinewidth\":0,\"ticks\":\"\"}},\"type\":\"scatterpolargl\"}],\"scatterternary\":[{\"marker\":{\"colorbar\":{\"outlinewidth\":0,\"ticks\":\"\"}},\"type\":\"scatterternary\"}],\"surface\":[{\"colorbar\":{\"outlinewidth\":0,\"ticks\":\"\"},\"colorscale\":[[0.0,\"#0d0887\"],[0.1111111111111111,\"#46039f\"],[0.2222222222222222,\"#7201a8\"],[0.3333333333333333,\"#9c179e\"],[0.4444444444444444,\"#bd3786\"],[0.5555555555555556,\"#d8576b\"],[0.6666666666666666,\"#ed7953\"],[0.7777777777777778,\"#fb9f3a\"],[0.8888888888888888,\"#fdca26\"],[1.0,\"#f0f921\"]],\"type\":\"surface\"}],\"table\":[{\"cells\":{\"fill\":{\"color\":\"#EBF0F8\"},\"line\":{\"color\":\"white\"}},\"header\":{\"fill\":{\"color\":\"#C8D4E3\"},\"line\":{\"color\":\"white\"}},\"type\":\"table\"}]},\"layout\":{\"annotationdefaults\":{\"arrowcolor\":\"#2a3f5f\",\"arrowhead\":0,\"arrowwidth\":1},\"autotypenumbers\":\"strict\",\"coloraxis\":{\"colorbar\":{\"outlinewidth\":0,\"ticks\":\"\"}},\"colorscale\":{\"diverging\":[[0,\"#8e0152\"],[0.1,\"#c51b7d\"],[0.2,\"#de77ae\"],[0.3,\"#f1b6da\"],[0.4,\"#fde0ef\"],[0.5,\"#f7f7f7\"],[0.6,\"#e6f5d0\"],[0.7,\"#b8e186\"],[0.8,\"#7fbc41\"],[0.9,\"#4d9221\"],[1,\"#276419\"]],\"sequential\":[[0.0,\"#0d0887\"],[0.1111111111111111,\"#46039f\"],[0.2222222222222222,\"#7201a8\"],[0.3333333333333333,\"#9c179e\"],[0.4444444444444444,\"#bd3786\"],[0.5555555555555556,\"#d8576b\"],[0.6666666666666666,\"#ed7953\"],[0.7777777777777778,\"#fb9f3a\"],[0.8888888888888888,\"#fdca26\"],[1.0,\"#f0f921\"]],\"sequentialminus\":[[0.0,\"#0d0887\"],[0.1111111111111111,\"#46039f\"],[0.2222222222222222,\"#7201a8\"],[0.3333333333333333,\"#9c179e\"],[0.4444444444444444,\"#bd3786\"],[0.5555555555555556,\"#d8576b\"],[0.6666666666666666,\"#ed7953\"],[0.7777777777777778,\"#fb9f3a\"],[0.8888888888888888,\"#fdca26\"],[1.0,\"#f0f921\"]]},\"colorway\":[\"#636efa\",\"#EF553B\",\"#00cc96\",\"#ab63fa\",\"#FFA15A\",\"#19d3f3\",\"#FF6692\",\"#B6E880\",\"#FF97FF\",\"#FECB52\"],\"font\":{\"color\":\"#2a3f5f\"},\"geo\":{\"bgcolor\":\"white\",\"lakecolor\":\"white\",\"landcolor\":\"#E5ECF6\",\"showlakes\":true,\"showland\":true,\"subunitcolor\":\"white\"},\"hoverlabel\":{\"align\":\"left\"},\"hovermode\":\"closest\",\"mapbox\":{\"style\":\"light\"},\"paper_bgcolor\":\"white\",\"plot_bgcolor\":\"#E5ECF6\",\"polar\":{\"angularaxis\":{\"gridcolor\":\"white\",\"linecolor\":\"white\",\"ticks\":\"\"},\"bgcolor\":\"#E5ECF6\",\"radialaxis\":{\"gridcolor\":\"white\",\"linecolor\":\"white\",\"ticks\":\"\"}},\"scene\":{\"xaxis\":{\"backgroundcolor\":\"#E5ECF6\",\"gridcolor\":\"white\",\"gridwidth\":2,\"linecolor\":\"white\",\"showbackground\":true,\"ticks\":\"\",\"zerolinecolor\":\"white\"},\"yaxis\":{\"backgroundcolor\":\"#E5ECF6\",\"gridcolor\":\"white\",\"gridwidth\":2,\"linecolor\":\"white\",\"showbackground\":true,\"ticks\":\"\",\"zerolinecolor\":\"white\"},\"zaxis\":{\"backgroundcolor\":\"#E5ECF6\",\"gridcolor\":\"white\",\"gridwidth\":2,\"linecolor\":\"white\",\"showbackground\":true,\"ticks\":\"\",\"zerolinecolor\":\"white\"}},\"shapedefaults\":{\"line\":{\"color\":\"#2a3f5f\"}},\"ternary\":{\"aaxis\":{\"gridcolor\":\"white\",\"linecolor\":\"white\",\"ticks\":\"\"},\"baxis\":{\"gridcolor\":\"white\",\"linecolor\":\"white\",\"ticks\":\"\"},\"bgcolor\":\"#E5ECF6\",\"caxis\":{\"gridcolor\":\"white\",\"linecolor\":\"white\",\"ticks\":\"\"}},\"title\":{\"x\":0.05},\"xaxis\":{\"automargin\":true,\"gridcolor\":\"white\",\"linecolor\":\"white\",\"ticks\":\"\",\"title\":{\"standoff\":15},\"zerolinecolor\":\"white\",\"zerolinewidth\":2},\"yaxis\":{\"automargin\":true,\"gridcolor\":\"white\",\"linecolor\":\"white\",\"ticks\":\"\",\"title\":{\"standoff\":15},\"zerolinecolor\":\"white\",\"zerolinewidth\":2}}},\"width\":650},                        {\"responsive\": true}                    ).then(function(){\n",
       "                            \n",
       "var gd = document.getElementById('675f7408-9bfd-4cfc-a83a-f15ceb91694b');\n",
       "var x = new MutationObserver(function (mutations, observer) {{\n",
       "        var display = window.getComputedStyle(gd).display;\n",
       "        if (!display || display === 'none') {{\n",
       "            console.log([gd, 'removed!']);\n",
       "            Plotly.purge(gd);\n",
       "            observer.disconnect();\n",
       "        }}\n",
       "}});\n",
       "\n",
       "// Listen for the removal of the full notebook cells\n",
       "var notebookContainer = gd.closest('#notebook-container');\n",
       "if (notebookContainer) {{\n",
       "    x.observe(notebookContainer, {childList: true});\n",
       "}}\n",
       "\n",
       "// Listen for the clearing of the current output cell\n",
       "var outputEl = gd.closest('.output');\n",
       "if (outputEl) {{\n",
       "    x.observe(outputEl, {childList: true});\n",
       "}}\n",
       "\n",
       "                        })                };                });            </script>        </div>"
      ]
     },
     "metadata": {},
     "output_type": "display_data"
    }
   ],
   "source": [
    "fig = px.scatter_mapbox(df,\n",
    "                     lat=df.Latitude,\n",
    "                     lon=df.Longitude,\n",
    "                    #  color=\"\", # which column to use to set the color of markers\n",
    "                     hover_name=\"Station\",\n",
    "                     hover_data=[\"m.a.s.l\", \"velocity(m/y)\"],\n",
    "                     zoom=2,\n",
    "                     width=650,\n",
    "                     height=500,\n",
    "                     center=dict(\n",
    "                         lat=72.603506,\n",
    "                         lon=-41.352658\n",
    "                     )) # column added to hover information)\n",
    "# fig.update_layout(mapbox_style=\"stamen-terrain\") \n",
    "# fig.update_layout(mapbox_style=\"open-street-map\")\n",
    "fig.update_layout(\n",
    "    mapbox_style=\"white-bg\",\n",
    "    mapbox_layers=[\n",
    "        {\n",
    "            \"below\": 'traces',\n",
    "            \"sourcetype\": \"raster\",\n",
    "            \"sourceattribution\": \"United States Geological Survey\",\n",
    "            \"source\": [\n",
    "                \"https://basemap.nationalmap.gov/arcgis/rest/services/USGSImageryOnly/MapServer/tile/{z}/{y}/{x}\"\n",
    "            ]\n",
    "        }\n",
    "      ])\n",
    "fig.update_layout(margin={\"r\":0,\"t\":0,\"l\":0,\"b\":0})                    \n",
    "fig.show()\n",
    "# fig.write_html(r'C:\\Users\\au686295\\Documents\\GitHub\\personal\\shunan.feng\\assets\\interactive_figure\\promice.html')\n"
   ]
  },
  {
   "cell_type": "markdown",
   "metadata": {},
   "source": [
    "# GEE"
   ]
  },
  {
   "cell_type": "code",
   "execution_count": 4,
   "metadata": {},
   "outputs": [
    {
     "data": {
      "application/vnd.jupyter.widget-view+json": {
       "model_id": "1670277ef7df452e8369953bf5f7abe6",
       "version_major": 2,
       "version_minor": 0
      },
      "text/plain": [
       "Map(center=[40, -100], controls=(WidgetControl(options=['position', 'transparent_bg'], widget=HBox(children=(T…"
      ]
     },
     "metadata": {},
     "output_type": "display_data"
    }
   ],
   "source": [
    "Map = geemap.Map()\n",
    "Map"
   ]
  },
  {
   "cell_type": "markdown",
   "metadata": {},
   "source": [
    "## Landsat and Sentinel "
   ]
  },
  {
   "cell_type": "code",
   "execution_count": 17,
   "metadata": {},
   "outputs": [],
   "source": [
    "rmaCoefficients = {\n",
    "  'itcpsL7': ee.Image.constant([-0.0084, -0.0065, 0.0022, -0.0768, -0.0314, -0.0022]),\n",
    "  'slopesL7': ee.Image.constant([1.1017, 1.0840, 1.0610, 1.2100, 1.2039, 1.2402]),\n",
    "  'itcpsS2': ee.Image.constant([0.0210, 0.0167, 0.0155, -0.0693, -0.0039, -0.0112]),\n",
    "  'slopesS2': ee.Image.constant([1.0849, 1.0590, 1.0759, 1.1583, 1.0479, 1.0148])\n",
    "}; #rma"
   ]
  },
  {
   "cell_type": "code",
   "execution_count": 18,
   "metadata": {},
   "outputs": [],
   "source": [
    "# Function to get and rename bands of interest from OLI.\n",
    "def renameOli(img):\n",
    "  return img.select(\n",
    "    ['SR_B2', 'SR_B3', 'SR_B4', 'SR_B5', 'SR_B6', 'SR_B7'], #'QA_PIXEL', 'QA_RADSAT'\n",
    "    ['Blue',  'Green', 'Red',   'NIR',   'SWIR1', 'SWIR2']) #'QA_PIXEL', 'QA_RADSAT'\n",
    "\n",
    "# Function to get and rename bands of interest from ETM+, TM.\n",
    "def renameEtm(img):\n",
    "  return img.select(\n",
    "    ['SR_B1', 'SR_B2', 'SR_B3', 'SR_B4', 'SR_B5', 'SR_B7'], #,   'QA_PIXEL', 'QA_RADSAT'\n",
    "    ['Blue',  'Green', 'Red',   'NIR',   'SWIR1', 'SWIR2']) #, 'QA_PIXEL', 'QA_RADSAT'\n",
    "\n",
    "# Function to get and rename bands of interest from Sentinel 2.\n",
    "def renameS2(img):\n",
    "  return img.select(\n",
    "    ['B2',   'B3',    'B4',  'B8',  'B11',   'B12',   'QA60', 'SCL'],\n",
    "    ['Blue', 'Green', 'Red', 'NIR', 'SWIR1', 'SWIR2', 'QA60', 'SCL']\n",
    "  )\n",
    "\n",
    "def oli2oli(img):\n",
    "  return img.select(['Blue', 'Green', 'Red', 'NIR', 'SWIR1', 'SWIR2']) \\\n",
    "    .toFloat()\n",
    "\n",
    "def etm2oli(img):\n",
    "  return img.select(['Blue', 'Green', 'Red', 'NIR', 'SWIR1', 'SWIR2']) \\\n",
    "    .multiply(rmaCoefficients[\"slopesL7\"]) \\\n",
    "    .add(rmaCoefficients[\"itcpsL7\"]) \\\n",
    "    .toFloat()\n",
    "    # .round() \\\n",
    "    # .toShort() \n",
    "    # .addBands(img.select('pixel_qa'))\n",
    "\n",
    "def s22oli(img):\n",
    "  return img.select(['Blue', 'Green', 'Red', 'NIR', 'SWIR1', 'SWIR2']) \\\n",
    "    .multiply(rmaCoefficients[\"slopesS2\"]) \\\n",
    "    .add(rmaCoefficients[\"itcpsS2\"]) \\\n",
    "    .toFloat()\n",
    "    # .round() \\\n",
    "    # .toShort() # convert to Int16\n",
    "    # .addBands(img.select('pixel_qa'))\n",
    "\n",
    "def imRangeFilter(image):\n",
    "  maskMax = image.lt(1)\n",
    "  maskMin = image.gt(0)\n",
    "  return image.updateMask(maskMax).updateMask(maskMin)\n",
    "\n",
    "'''\n",
    "Cloud mask for Landsat data based on fmask (QA_PIXEL) and saturation mask \n",
    "based on QA_RADSAT.\n",
    "Cloud mask and saturation mask by sen2cor.\n",
    "Codes provided by GEE official. '''\n",
    "\n",
    "# the Landsat 8 Collection 2\n",
    "def maskL8sr(image):\n",
    "  # Bit 0 - Fill\n",
    "  # Bit 1 - Dilated Cloud\n",
    "  # Bit 2 - Cirrus\n",
    "  # Bit 3 - Cloud\n",
    "  # Bit 4 - Cloud Shadow\n",
    "  qaMask = image.select('QA_PIXEL').bitwiseAnd(int('11111', 2)).eq(0)\n",
    "  saturationMask = image.select('QA_RADSAT').eq(0)\n",
    "\n",
    "  # Apply the scaling factors to the appropriate bands.\n",
    "  # opticalBands = image.select('SR_B.').multiply(0.0000275).add(-0.2)\n",
    "  # thermalBands = image.select('ST_B.*').multiply(0.00341802).add(149.0)\n",
    "\n",
    "  # Replace the original bands with the scaled ones and apply the masks.\n",
    "  #image.addBands(opticalBands, {}, True) \\ maybe not available in python api\n",
    "  return image.select('SR_B.').multiply(0.0000275).add(-0.2) \\\n",
    "    .updateMask(qaMask) \\\n",
    "    .updateMask(saturationMask)\n",
    "\n",
    "  \n",
    "# the Landsat 4, 5, 7 Collection 2\n",
    "def maskL457sr(image):\n",
    "  # Bit 0 - Fill\n",
    "  # Bit 1 - Dilated Cloud\n",
    "  # Bit 2 - Unused\n",
    "  # Bit 3 - Cloud\n",
    "  # Bit 4 - Cloud Shadow\n",
    "  qaMask = image.select('QA_PIXEL').bitwiseAnd(int('11111', 2)).eq(0)\n",
    "  saturationMask = image.select('QA_RADSAT').eq(0)\n",
    "\n",
    "  # Apply the scaling factors to the appropriate bands.\n",
    "  # opticalBands = image.select('SR_B.')\n",
    "  # opticalBands = image.select('SR_B.').multiply(0.0000275).add(-0.2)\n",
    "  # thermalBand = image.select('ST_B6').multiply(0.00341802).add(149.0)\n",
    "\n",
    "  # Replace the original bands with the scaled ones and apply the masks.\n",
    "  return image.select('SR_B.').multiply(0.0000275).add(-0.2) \\\n",
    "      .updateMask(qaMask) \\\n",
    "      .updateMask(saturationMask)\n",
    " #\n",
    " # Function to mask clouds using the Sentinel-2 QA band\n",
    " # @param {ee.Image} image Sentinel-2 image\n",
    " # @return {ee.Image} cloud masked Sentinel-2 image\n",
    " #\n",
    "def maskS2sr(image):\n",
    "  qa = image.select('QA60')\n",
    "\n",
    "  # Bits 10 and 11 are clouds and cirrus, respectively.\n",
    "  cloudBitMask = 1 << 10\n",
    "  cirrusBitMask = 1 << 11\n",
    "  # Bits 1 is saturated or defective pixel\n",
    "  not_saturated = image.select('SCL').neq(1)\n",
    "  # Both flags should be set to zero, indicating clear conditions.\n",
    "  mask = qa.bitwiseAnd(cloudBitMask).eq(0) \\\n",
    "      .And(qa.bitwiseAnd(cirrusBitMask).eq(0)) \n",
    "\n",
    "  return image.updateMask(mask).updateMask(not_saturated).divide(10000)\n"
   ]
  },
  {
   "cell_type": "code",
   "execution_count": 19,
   "metadata": {},
   "outputs": [],
   "source": [
    "# Define function to prepare OLI images.\n",
    "def prepOli(img):\n",
    "  orig = img\n",
    "  img = maskL8sr(img)\n",
    "  img = renameOli(img)\n",
    "  img = oli2oli(img)\n",
    "  img = imRangeFilter(img)\n",
    "#   img = addAlbedo(img)\n",
    "  return ee.Image(img.copyProperties(orig, orig.propertyNames()))\n",
    "\n",
    "# Define function to prepare ETM+/TM images.\n",
    "def prepEtm(img):\n",
    "  orig = img\n",
    "  img = maskL457sr(img)\n",
    "  img = renameEtm(img)\n",
    "  img = etm2oli(img)\n",
    "  img = imRangeFilter(img)\n",
    "#   img = addAlbedo(img)\n",
    "  return ee.Image(img.copyProperties(orig, orig.propertyNames()))\n",
    "\n",
    "# Define function to prepare S2 images.\n",
    "def prepS2(img):\n",
    "  orig = img\n",
    "  img = renameS2(img)\n",
    "  img = maskS2sr(img)\n",
    "  img = s22oli(img)\n",
    "  img = imRangeFilter(img)\n",
    "#   img = addAlbedo(img)\n",
    "  return ee.Image(img.copyProperties(orig, orig.propertyNames()).set('SATELLITE', 'SENTINEL_2'))\n"
   ]
  },
  {
   "cell_type": "code",
   "execution_count": 6,
   "metadata": {},
   "outputs": [],
   "source": [
    "# https://developers.google.com/earth-engine/tutorials/community/intro-to-python-api-guiattard by https://github.com/guiattard\n",
    "def ee_array_to_df(arr, list_of_bands):\n",
    "    \"\"\"Transforms client-side ee.Image.getRegion array to pandas.DataFrame.\"\"\"\n",
    "    df = pd.DataFrame(arr)\n",
    "\n",
    "    # Rearrange the header.\n",
    "    headers = df.iloc[0]\n",
    "    df = pd.DataFrame(df.values[1:], columns=headers)\n",
    "\n",
    "    # Remove rows without data inside.\n",
    "    df = df[['longitude', 'latitude', 'time', *list_of_bands]]#.dropna()\n",
    "\n",
    "    # Convert the data to numeric values.\n",
    "    for band in list_of_bands:\n",
    "        df[band] = pd.to_numeric(df[band], errors='coerce')\n",
    "\n",
    "    # Convert the time field into a datetime.\n",
    "    df['datetime'] = pd.to_datetime(df['time'], unit='ms')\n",
    "\n",
    "    # Keep the columns of interest.\n",
    "    df = df[['time','datetime',  *list_of_bands]]\n",
    "\n",
    "    return df"
   ]
  },
  {
   "cell_type": "code",
   "execution_count": null,
   "metadata": {},
   "outputs": [],
   "source": [
    "for i in range(len(df.Station)):\n",
    "    stationName = df.Station[i]\n",
    "    url = df.url[i]\n",
    "    url = df.url[i]\n",
    "    dfall = pd.read_table(url, sep=r'\\s{1,}', engine='python')\n",
    "    dfs = dfall[['Year', 'MonthOfYear', 'DayOfMonth', 'Albedo_theta<70d', 'LatitudeGPS_HDOP<1(degN)', 'LongitudeGPS_HDOP<1(degW)']]\n",
    "    dfs = dfs[(dfs['Albedo_theta<70d'] > 0)]\n",
    "    dfs = dfs.replace(-999, np.nan)\n",
    "    # dfs = dfs.interpolate(method='bfill')\n",
    "    dfs['LatitudeGPS_HDOP<1(degN)'] = dfs['LatitudeGPS_HDOP<1(degN)'].interpolate(limit_direction='both')\n",
    "    dfs['LongitudeGPS_HDOP<1(degW)'] = dfs['LongitudeGPS_HDOP<1(degW)'].interpolate(limit_direction='both')\n",
    "    dfs['lat'] = dfs['LatitudeGPS_HDOP<1(degN)']\n",
    "    dfs['lon'] = dfs['LongitudeGPS_HDOP<1(degW)'] * -1\n",
    "    dfs['time'] = pd.to_datetime(dict(year=dfs.Year, month=dfs.MonthOfYear, day = dfs.DayOfMonth))\n",
    "    # utmx, utmy, utmzoneNum, utmzoneLetter = utm.from_latlon(dfs.lat.values, dfs.lon.values)\n",
    "    # dist = np.sqrt((utmx[0] - utmx[-1])**2 + (utmy[0] - utmy[-1])**2) / (dfs.Year.tail(1).values - dfs.Year.head(1).values)\n",
    "\n",
    "    print('The station is: %s' %df.Station[i])\n",
    "    print('start from: %s end on: %s' % (dfs.time.head(1).values, dfs.time.tail(1).values))\n",
    "    # print(\"the annual average ice flow rate is %.2f m\\N{DOT OPERATOR}a\\u207B\\N{SUPERSCRIPT ONE}\" %dist)\n",
    "\n",
    "    dfsYear = dfs.groupby(['Year']).mean() \n",
    "    dfsYear.reset_index(inplace=True)\n",
    "    \n",
    "    '''\n",
    "    This part could help examine the annual ice velocity calculated from promice data.\n",
    "    '''\n",
    "    # for j in range(len(dfsYear)):\n",
    "    #     # aoi = ee.Geometry.Point([dfsYear.lon[i], dfsYear.lat[i]]).buffer(300)\n",
    "    #     # Map.addLayer(aoi, {}, str(dfsYear.Year[i]))\n",
    "    #     utmx, utmy, utmzoneNum, utmzoneLetter = utm.from_latlon(dfsYear.lat[j], dfsYear.lon[j])\n",
    "    #     dist = np.sqrt((utmx - utmx)**2 + (utmy - utmy)**2) / (dfsYear.Year.tail(1).values - dfs.Year.head(1).values)\n",
    "    #     print('year: %d, coordinates:(%f, %f)' %(dfsYear.Year[j], dfsYear.lon[j], dfsYear.lat[j]))\n",
    "    #     print(\"the average ice flow rate is %.2f m\\N{DOT OPERATOR}a\\u207B\\N{SUPERSCRIPT ONE}\" %dist)\n",
    "\n",
    "    for j in range(len(dfsYear)):\n",
    "        aoi = ee.Geometry.Point([dfsYear.lon[j], dfsYear.lat[j]])\n",
    "        Map.addLayer(aoi, {}, str(dfsYear.Year[j]))\n",
    "        date_start = str(dfsYear.Year[j]) + '-' + str(1) + '-' + str(1) \n",
    "        date_end = str(dfsYear.Year[j]) + '-' + str(12) + '-' + str(31) \n",
    "        # print(date_start)\n",
    "\n",
    "        # create filter for image collection\n",
    "        colFilter = ee.Filter.And(\n",
    "            ee.Filter.geometry(aoi), # filterbounds not available on python api https://github.com/google/earthengine-api/issues/83\n",
    "            ee.Filter.date(date_start, date_end)\n",
    "            # ee.Filter.calendarRange(5, 9, 'month'),\n",
    "            # ee.Filter.lt('CLOUD_COVER', 50)\n",
    "        )\n",
    "\n",
    "        s2colFilter =  ee.Filter.And(\n",
    "            ee.Filter.geometry(aoi), # filterbounds not available on python api https://github.com/google/earthengine-api/issues/83\n",
    "            ee.Filter.date(date_start, date_end),\n",
    "            # ee.Filter.calendarRange(5, 9, 'month'),\n",
    "            ee.Filter.lt('CLOUDY_PIXEL_PERCENTAGE', 50)\n",
    "        )\n",
    "\n",
    "        oliCol = ee.ImageCollection('LANDSAT/LC08/C02/T1_L2') \\\n",
    "                    .filter(colFilter) \\\n",
    "                    .map(prepOli) \\\n",
    "                    .select(['Blue', 'Green', 'Red', 'NIR', 'SWIR1', 'SWIR2'])\n",
    "        etmCol = ee.ImageCollection('LANDSAT/LE07/C02/T1_L2') \\\n",
    "                    .filter(colFilter) \\\n",
    "                    .map(prepEtm) \\\n",
    "                    .select(['Blue', 'Green', 'Red', 'NIR', 'SWIR1', 'SWIR2'])\n",
    "        tmCol = ee.ImageCollection('LANDSAT/LT05/C02/T1_L2') \\\n",
    "                    .filter(colFilter) \\\n",
    "                    .map(prepEtm) \\\n",
    "                    .select(['Blue', 'Green', 'Red', 'NIR', 'SWIR1', 'SWIR2'])\n",
    "        tm4Col = ee.ImageCollection('LANDSAT/LT04/C02/T1_L2') \\\n",
    "                    .filter(colFilter) \\\n",
    "                    .map(prepEtm) \\\n",
    "                    .select(['Blue', 'Green', 'Red', 'NIR', 'SWIR1', 'SWIR2'])\n",
    "        s2Col = ee.ImageCollection('COPERNICUS/S2_SR') \\\n",
    "                    .filter(s2colFilter) \\\n",
    "                    .map(prepS2) \\\n",
    "                    .select(['Blue', 'Green', 'Red', 'NIR', 'SWIR1', 'SWIR2'])\n",
    "        # landsatCol = etmCol.merge(tmCol)\n",
    "        landsatCol = oliCol.merge(etmCol).merge(tmCol).merge(tm4Col)\n",
    "        multiSat = landsatCol.merge(s2Col).sort('system:time_start', True) # // Sort chronologically in descending order.\n",
    "    \n",
    "\n",
    "        if multiSat.size().getInfo()==0:\n",
    "            continue\n",
    "\n",
    "        pointValue = multiSat.getRegion(aoi, 90).getInfo() # The number e.g. 500 is the buffer size\n",
    "        dfpoint = ee_array_to_df(pointValue, ['Blue', 'Green', 'Red', 'NIR', 'SWIR1', 'SWIR2'])\n",
    "        pointValueFile = 'promice/multiSat90m/' + stationName.replace(\"*\", \"-\") + '.csv'\n",
    "        # if os.path.exists(pointValueFile):\n",
    "        if j==0:\n",
    "            dfpoint.to_csv(pointValueFile, mode='w', index=False, header=True)\n",
    "        else:\n",
    "            dfpoint.to_csv(pointValueFile, mode='a', index=False, header=False)"
   ]
  },
  {
   "cell_type": "markdown",
   "metadata": {},
   "source": [
    "## MODIS"
   ]
  },
  {
   "cell_type": "code",
   "execution_count": null,
   "metadata": {},
   "outputs": [],
   "source": [
    "for i in range(len(df.Station)):\n",
    "    stationName = df.Station[i]\n",
    "    url = df.url[i]\n",
    "    dfall = pd.read_table(url, sep=r'\\s{1,}', engine='python')\n",
    "    dfs = dfall[['Year', 'MonthOfYear', 'DayOfMonth', 'Albedo_theta<70d', 'LatitudeGPS_HDOP<1(degN)', 'LongitudeGPS_HDOP<1(degW)']]\n",
    "    dfs = dfs[(dfs['Albedo_theta<70d'] > 0)]\n",
    "    dfs = dfs.replace(-999, np.nan)\n",
    "    # dfs = dfs.interpolate(method='bfill')\n",
    "    dfs['LatitudeGPS_HDOP<1(degN)'] = dfs['LatitudeGPS_HDOP<1(degN)'].interpolate(limit_direction='both')\n",
    "    dfs['LongitudeGPS_HDOP<1(degW)'] = dfs['LongitudeGPS_HDOP<1(degW)'].interpolate(limit_direction='both')\n",
    "    dfs['lat'] = dfs['LatitudeGPS_HDOP<1(degN)']\n",
    "    dfs['lon'] = dfs['LongitudeGPS_HDOP<1(degW)'] * -1\n",
    "    dfs['time'] = pd.to_datetime(dict(year=dfs.Year, month=dfs.MonthOfYear, day = dfs.DayOfMonth))\n",
    "    # utmx, utmy, utmzoneNum, utmzoneLetter = utm.from_latlon(dfs.lat.values, dfs.lon.values)\n",
    "    # dist = np.sqrt((utmx[0] - utmx[-1])**2 + (utmy[0] - utmy[-1])**2) / (dfs.Year.tail(1).values - dfs.Year.head(1).values)\n",
    "\n",
    "    print('The station is: %s' %df.Station[i])\n",
    "    print('start from: %s end on: %s' % (dfs.time.head(1).values, dfs.time.tail(1).values))\n",
    "    # print(\"the annual average ice flow rate is %.2f m\\N{DOT OPERATOR}a\\u207B\\N{SUPERSCRIPT ONE}\" %dist)\n",
    "\n",
    "    dfsYear = dfs.groupby(['Year']).mean() \n",
    "    dfsYear.reset_index(inplace=True)\n",
    "    \n",
    "    '''\n",
    "    This part could help examine the annual ice velocity calculated from promice data.\n",
    "    '''\n",
    "    # for j in range(len(dfsYear)):\n",
    "    #     # aoi = ee.Geometry.Point([dfsYear.lon[i], dfsYear.lat[i]]).buffer(300)\n",
    "    #     # Map.addLayer(aoi, {}, str(dfsYear.Year[i]))\n",
    "    #     utmx, utmy, utmzoneNum, utmzoneLetter = utm.from_latlon(dfsYear.lat[j], dfsYear.lon[j])\n",
    "    #     dist = np.sqrt((utmx - utmx)**2 + (utmy - utmy)**2) / (dfsYear.Year.tail(1).values - dfs.Year.head(1).values)\n",
    "    #     print('year: %d, coordinates:(%f, %f)' %(dfsYear.Year[j], dfsYear.lon[j], dfsYear.lat[j]))\n",
    "    #     print(\"the average ice flow rate is %.2f m\\N{DOT OPERATOR}a\\u207B\\N{SUPERSCRIPT ONE}\" %dist)\n",
    "    \n",
    "    \n",
    "    for j in range(len(dfsYear)):\n",
    "        # aoi = ee.Geometry.Point([dfsYear.lon[i], dfsYear.lat[i]]).buffer(300)\n",
    "        aoi = ee.Geometry.Point([dfsYear.lon[j], dfsYear.lat[j]])\n",
    "        Map.addLayer(aoi, {}, str(dfsYear.Year[j]))\n",
    "        date_start = str(dfsYear.Year[j]) + '-' + str(1) + '-' + str(1) \n",
    "        date_end = str(dfsYear.Year[j]) + '-' + str(12) + '-' + str(31) \n",
    "        # print(date_start)\n",
    "        # create filter for image collection\n",
    "\n",
    "        colFilter = ee.Filter.And(\n",
    "            # ee.Filter.bounds(aoi),\n",
    "            # ee.Filter.intersects('.geo', aoi),\n",
    "            ee.Filter.geometry(aoi),\n",
    "            ee.Filter.date(date_start, date_end)\n",
    "        )\n",
    "\n",
    "        # def maskMODIS(image):\n",
    "        #     # 150\t\tCloud\n",
    "        #     # 151\t\tCloud detected as snow\n",
    "        #     qa = image.select('Snow_Albedo_Daily_Tile_Class')\n",
    "        #     cloudMask = qa.neq(150)\n",
    "        #     # cloudFalseMask = qa.neq(151)\n",
    "        #     return image.updateMask(cloudMask)#.updateMask(cloudFalseMask)\n",
    "        # MOD10A1.006 Terra Snow Cover Daily Global 500m\n",
    "        modisCol = ee.ImageCollection('MODIS/006/MOD10A1').select(['Snow_Albedo_Daily_Tile', 'Snow_Albedo_Daily_Tile_Class']) \\\n",
    "            .filter(colFilter)#.map(maskMODIS)\n",
    "        \n",
    "        # if multiSat.size().getInfo()==0:\n",
    "        #     continue\n",
    "\n",
    "        pointValue = modisCol.getRegion(aoi, 500).getInfo() # 300 is the buffer radius\n",
    "        dfpoint = ee_array_to_df(pointValue, ['Snow_Albedo_Daily_Tile'])\n",
    "        pointValueFile = 'promice/modis500m/' + stationName.replace(\"*\", \"-\") + '.csv'\n",
    "        # if os.path.exists(pointValueFile):\n",
    "        if j==0:\n",
    "            dfpoint.to_csv(pointValueFile, mode='w', index=False)\n",
    "        else:\n",
    "            dfpoint.to_csv(pointValueFile, mode='a', index=False, header=False)\n",
    "\n",
    "        # pointValueFile = 'promice/' + stationName + '_' + str(dfsYear.Year[i]) + '.csv'\n",
    "        \n",
    "        # all_list = all_list.map(func_bbz)\n",
    "        # work_dir = os.path.expanduser('~/Downloads')\n",
    "        # out_csv = os.path.join(work_dir, 'landsat.csv')\n",
    "        # out_csv = os.path.join('landsat.csv')\n",
    "        # geemap.extract_values_to_points(aoi, multiSat, out_csv)\n"
   ]
  }
 ],
 "metadata": {
  "interpreter": {
   "hash": "01eb7ea2538ab1a97da7b2187d14aece0956b1f1437de6b6682af2a419fa4d22"
  },
  "kernelspec": {
   "display_name": "Python 3.8.12 64-bit ('earth': conda)",
   "name": "python3"
  },
  "language_info": {
   "codemirror_mode": {
    "name": "ipython",
    "version": 3
   },
   "file_extension": ".py",
   "mimetype": "text/x-python",
   "name": "python",
   "nbconvert_exporter": "python",
   "pygments_lexer": "ipython3",
   "version": "3.8.12"
  },
  "orig_nbformat": 2
 },
 "nbformat": 4,
 "nbformat_minor": 2
}
