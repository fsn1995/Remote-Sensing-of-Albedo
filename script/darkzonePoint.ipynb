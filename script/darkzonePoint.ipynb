{
 "cells": [
  {
   "cell_type": "markdown",
   "metadata": {},
   "source": [
    "A notebook to investigate the albedo dynamics at point scale."
   ]
  },
  {
   "cell_type": "code",
   "execution_count": 3,
   "metadata": {},
   "outputs": [],
   "source": [
    "import ee\n",
    "import geemap\n",
    "# from geemap import cartoee\n",
    "# import cartopy.crs as ccrs\n",
    "# import geemap.colormaps as cm\n",
    "import matplotlib.pyplot as plt\n",
    "# from geetools import batch\n",
    "# import numpy as np\n",
    "import pandas as pd\n",
    "import seaborn as sns\n",
    "# import time "
   ]
  },
  {
   "cell_type": "code",
   "execution_count": 4,
   "metadata": {},
   "outputs": [
    {
     "data": {
      "application/vnd.jupyter.widget-view+json": {
       "model_id": "8a1495fd93d249abbdd0ed6ca549099a",
       "version_major": 2,
       "version_minor": 0
      },
      "text/plain": [
       "Map(center=[40, -100], controls=(WidgetControl(options=['position', 'transparent_bg'], widget=HBox(children=(T…"
      ]
     },
     "metadata": {},
     "output_type": "display_data"
    }
   ],
   "source": [
    "Map = geemap.Map()\n",
    "Map "
   ]
  },
  {
   "cell_type": "markdown",
   "metadata": {},
   "source": [
    "# Prepare Harmonized Albedo"
   ]
  },
  {
   "cell_type": "code",
   "execution_count": 5,
   "metadata": {},
   "outputs": [],
   "source": [
    "date_start = ee.Date.fromYMD(1984, 1, 1)\n",
    "date_end = ee.Date.fromYMD(2020, 12, 31)\n",
    "\n",
    "\n",
    "# yearnum = 2021\n",
    "# monthnum = 9\n",
    "# date_start = ee.Date.fromYMD(yearnum, monthnum, 1)\n",
    "# date_end = ee.Date.fromYMD(yearnum, monthnum+1, 1)\n",
    "# titlestr = \"albedo \" + str(yearnum) + \"-0\" + str(monthnum)"
   ]
  },
  {
   "cell_type": "code",
   "execution_count": 6,
   "metadata": {},
   "outputs": [],
   "source": [
    "def addTotalAlbedo(image):\n",
    "    albedo = image.expression(\n",
    "        '1.0065 * Blue + 1.1902 * Green - 2.6738 * Red + 1.1700 * NIR + 0.9211 * SWIR1 - 1.1667 * SWIR2 + 0.1757',\n",
    "        {\n",
    "            'Blue': image.select('Blue'),\n",
    "            'Green': image.select('Green'),\n",
    "            'Red': image.select('Red'),\n",
    "            'NIR': image.select('NIR'),\n",
    "            'SWIR1': image.select('SWIR1'),\n",
    "            'SWIR2': image.select('SWIR2')\n",
    "        }\n",
    "    ).rename('totalAlbedo')\n",
    "    return image.addBands(albedo).copyProperties(image, ['system:time_start'])\n",
    "\n",
    "def addVisnirAlbedo(image):\n",
    "    albedo = image.expression(\n",
    "        '0.7605 * Blue + 0.8090 * Green - 1.8376 * Red + 0.9145 * NIR + 0.1627',\n",
    "        {\n",
    "            'Blue': image.select('Blue'),\n",
    "            'Green': image.select('Green'),\n",
    "            'Red': image.select('Red'),\n",
    "            'NIR': image.select('NIR')\n",
    "        }\n",
    "    ).rename('visnirAlbedo')\n",
    "    return image.addBands(albedo).copyProperties(image, ['system:time_start'])\n"
   ]
  },
  {
   "cell_type": "markdown",
   "metadata": {},
   "source": [
    "## If VIS-NIR bands albedo"
   ]
  },
  {
   "cell_type": "code",
   "execution_count": 7,
   "metadata": {},
   "outputs": [],
   "source": [
    "''''if viz-nir bands albedo'''\n",
    "rmaCoefficients = {\n",
    "  'itcpsL7': ee.Image.constant([-0.0084, -0.0065, 0.0022, -0.0768]),\n",
    "  'slopesL7': ee.Image.constant([1.1017, 1.0840, 1.0610, 1.2100]),\n",
    "  'itcpsS2': ee.Image.constant([0.0210, 0.0167, 0.0155, -0.0693]),\n",
    "  'slopesS2': ee.Image.constant([1.0849, 1.0590, 1.0759, 1.1583])\n",
    "}; #rma\n",
    "# Function to get and rename bands of interest from OLI.\n",
    "def renameOli(img):\n",
    "  return img.select(\n",
    "    ['SR_B2', 'SR_B3', 'SR_B4', 'SR_B5', 'QA_PIXEL', 'QA_RADSAT'], #'QA_PIXEL', 'QA_RADSAT'\n",
    "    ['Blue',  'Green', 'Red',   'NIR',   'QA_PIXEL', 'QA_RADSAT']) #'QA_PIXEL', 'QA_RADSAT'\n",
    "\n",
    "# Function to get and rename bands of interest from ETM+, TM.\n",
    "def renameEtm(img):\n",
    "  return img.select(\n",
    "    ['SR_B1', 'SR_B2', 'SR_B3', 'SR_B4', 'QA_PIXEL', 'QA_RADSAT'], #,   'QA_PIXEL', 'QA_RADSAT'\n",
    "    ['Blue',  'Green', 'Red',   'NIR',   'QA_PIXEL', 'QA_RADSAT']) #, 'QA_PIXEL', 'QA_RADSAT'\n",
    "\n",
    "# Function to get and rename bands of interest from Sentinel 2.\n",
    "def renameS2(img):\n",
    "  return img.select(\n",
    "    ['B2',   'B3',    'B4',  'B8',  'QA60', 'SCL'],\n",
    "    ['Blue', 'Green', 'Red', 'NIR', 'QA60', 'SCL']\n",
    "  )\n",
    "\n",
    "def oli2oli(img):\n",
    "  return img.select(['Blue', 'Green', 'Red', 'NIR']) \\\n",
    "    .toFloat()\n",
    "\n",
    "def etm2oli(img):\n",
    "  return img.select(['Blue', 'Green', 'Red', 'NIR']) \\\n",
    "    .multiply(rmaCoefficients[\"slopesL7\"]) \\\n",
    "    .add(rmaCoefficients[\"itcpsL7\"]) \\\n",
    "    .toFloat()\n",
    "    # .round() \\\n",
    "    # .toShort() \n",
    "    # .addBands(img.select('pixel_qa'))\n",
    "\n",
    "def s22oli(img):\n",
    "  return img.select(['Blue', 'Green', 'Red', 'NIR']) \\\n",
    "    .multiply(rmaCoefficients[\"slopesS2\"]) \\\n",
    "    .add(rmaCoefficients[\"itcpsS2\"]) \\\n",
    "    .toFloat()\n",
    "    # .round() \\\n",
    "    # .toShort() # convert to Int16\n",
    "    # .addBands(img.select('pixel_qa'))\n",
    "\n",
    "def imRangeFilter(image):\n",
    "  maskMax = image.lt(1)\n",
    "  maskMin = image.gt(0)\n",
    "  return image.updateMask(maskMax).updateMask(maskMin)\n",
    "\n",
    "'''\n",
    "Cloud mask for Landsat data based on fmask (QA_PIXEL) and saturation mask \n",
    "based on QA_RADSAT.\n",
    "Cloud mask and saturation mask by sen2cor.\n",
    "Codes provided by GEE official. '''\n",
    "\n",
    "# the Landsat 8 Collection 2\n",
    "def maskL8sr(image):\n",
    "  # Bit 0 - Fill\n",
    "  # Bit 1 - Dilated Cloud\n",
    "  # Bit 2 - Cirrus\n",
    "  # Bit 3 - Cloud\n",
    "  # Bit 4 - Cloud Shadow\n",
    "  qaMask = image.select('QA_PIXEL').bitwiseAnd(int('11111', 2)).eq(0)\n",
    "  saturationMask = image.select('QA_RADSAT').eq(0)\n",
    "\n",
    "  # Apply the scaling factors to the appropriate bands.\n",
    "  # opticalBands = image.select('SR_B.').multiply(0.0000275).add(-0.2)\n",
    "  # thermalBands = image.select('ST_B.*').multiply(0.00341802).add(149.0)\n",
    "\n",
    "  # Replace the original bands with the scaled ones and apply the masks.\n",
    "  #image.addBands(opticalBands, {}, True) \\ maybe not available in python api\n",
    "  return image.select(['Blue', 'Green', 'Red', 'NIR']).multiply(0.0000275).add(-0.2) \\\n",
    "    .updateMask(qaMask) \\\n",
    "    .updateMask(saturationMask)\n",
    "\n",
    "  \n",
    "# the Landsat 4, 5, 7 Collection 2\n",
    "def maskL457sr(image):\n",
    "  # Bit 0 - Fill\n",
    "  # Bit 1 - Dilated Cloud\n",
    "  # Bit 2 - Unused\n",
    "  # Bit 3 - Cloud\n",
    "  # Bit 4 - Cloud Shadow\n",
    "  qaMask = image.select('QA_PIXEL').bitwiseAnd(int('11111', 2)).eq(0)\n",
    "  saturationMask = image.select('QA_RADSAT').eq(0)\n",
    "\n",
    "  # Apply the scaling factors to the appropriate bands.\n",
    "  # opticalBands = image.select('SR_B.')\n",
    "  # opticalBands = image.select('SR_B.').multiply(0.0000275).add(-0.2)\n",
    "  # thermalBand = image.select('ST_B6').multiply(0.00341802).add(149.0)\n",
    "\n",
    "  # Replace the original bands with the scaled ones and apply the masks.\n",
    "  return image.select(['Blue', 'Green', 'Red', 'NIR']).multiply(0.0000275).add(-0.2) \\\n",
    "      .updateMask(qaMask) \\\n",
    "      .updateMask(saturationMask)\n",
    " #\n",
    " # Function to mask clouds using the Sentinel-2 QA band\n",
    " # @param {ee.Image} image Sentinel-2 image\n",
    " # @return {ee.Image} cloud masked Sentinel-2 image\n",
    " #\n",
    "def maskS2sr(image):\n",
    "  qa = image.select('QA60')\n",
    "\n",
    "  # Bits 10 and 11 are clouds and cirrus, respectively.\n",
    "  cloudBitMask = 1 << 10\n",
    "  cirrusBitMask = 1 << 11\n",
    "  # Bits 1 is saturated or defective pixel\n",
    "  not_saturated = image.select('SCL').neq(1)\n",
    "  # Both flags should be set to zero, indicating clear conditions.\n",
    "  mask = qa.bitwiseAnd(cloudBitMask).eq(0) \\\n",
    "      .And(qa.bitwiseAnd(cirrusBitMask).eq(0)) \n",
    "\n",
    "  return image.updateMask(mask).updateMask(not_saturated)\n"
   ]
  },
  {
   "cell_type": "code",
   "execution_count": 8,
   "metadata": {},
   "outputs": [],
   "source": [
    "# Define function to prepare OLI images.\n",
    "def prepOli(img):\n",
    "  orig = img\n",
    "  img = renameOli(img)\n",
    "  img = maskL8sr(img)\n",
    "  img = oli2oli(img)\n",
    "  # img = addTotalAlbedo(img)\n",
    "  img = addVisnirAlbedo(img)\n",
    "  return ee.Image(img.copyProperties(orig, orig.propertyNames()))\n",
    "\n",
    "# Define function to prepare ETM+/TM images.\n",
    "def prepEtm(img):\n",
    "  orig = img\n",
    "  img = renameEtm(img)\n",
    "  img = maskL457sr(img)\n",
    "  img = etm2oli(img)\n",
    "  # img = addTotalAlbedo(img)\n",
    "  img = addVisnirAlbedo(img)\n",
    "  return ee.Image(img.copyProperties(orig, orig.propertyNames()))\n",
    "\n",
    "# Define function to prepare S2 images.\n",
    "def prepS2(img):\n",
    "  orig = img\n",
    "  img = renameS2(img)\n",
    "  img = maskS2sr(img)\n",
    "  img = s22oli(img)\n",
    "  # img = addTotalAlbedo(img)\n",
    "  img = addVisnirAlbedo(img)\n",
    "  return ee.Image(img.copyProperties(orig, orig.propertyNames()).set('SATELLITE', 'SENTINEL_2'))\n"
   ]
  },
  {
   "cell_type": "markdown",
   "metadata": {},
   "source": [
    "# point cumsum anomaly"
   ]
  },
  {
   "cell_type": "code",
   "execution_count": 17,
   "metadata": {},
   "outputs": [],
   "source": [
    "# poi = ee.Geometry.Point([-54.2955, 72.8932]) # UPE_L\n",
    "# poi = ee.Geometry.Point([-48.8355, 67.0670]) # KAN_M\n",
    "poi = ee.Geometry.Point([-49.5358, 64.4822]) # NUK_L\n",
    "\n",
    "# create filter for image collection\n",
    "colFilter = ee.Filter.And(\n",
    "    ee.Filter.geometry(poi), # filterbounds not available on python api https://github.com/google/earthengine-api/issues/83\n",
    "    ee.Filter.date(date_start, date_end),\n",
    "    ee.Filter.calendarRange(7, 8, 'month'),\n",
    "    # ee.Filter.lt('CLOUD_COVER', 50)\n",
    ")\n",
    "\n",
    "s2colFilter =  ee.Filter.And(\n",
    "    ee.Filter.geometry(poi), # filterbounds not available on python api https://github.com/google/earthengine-api/issues/83\n",
    "    ee.Filter.date(date_start, date_end),\n",
    "    ee.Filter.calendarRange(7, 8, 'month'),\n",
    "    ee.Filter.lt('CLOUDY_PIXEL_PERCENTAGE', 50)\n",
    ")\n",
    "\n",
    "oliCol = ee.ImageCollection('LANDSAT/LC08/C02/T1_L2') \\\n",
    "            .filter(colFilter) \\\n",
    "            .map(prepOli) \\\n",
    "            .select(['visnirAlbedo']) # .select(['totalAlbedo']) or  .select(['viznirAlbedo'])\n",
    "etmCol = ee.ImageCollection('LANDSAT/LE07/C02/T1_L2') \\\n",
    "            .filter(colFilter) \\\n",
    "            .map(prepEtm) \\\n",
    "            .select(['visnirAlbedo']) # .select(['totalAlbedo']) or  .select(['viznirAlbedo'])\n",
    "tmCol = ee.ImageCollection('LANDSAT/LT05/C02/T1_L2') \\\n",
    "            .filter(colFilter) \\\n",
    "            .map(prepEtm) \\\n",
    "            .select(['visnirAlbedo']) # .select(['totalAlbedo']) or  .select(['viznirAlbedo'])\n",
    "tm4Col = ee.ImageCollection('LANDSAT/LT04/C02/T1_L2') \\\n",
    "            .filter(colFilter) \\\n",
    "            .map(prepEtm) \\\n",
    "            .select(['visnirAlbedo']) # .select(['totalAlbedo']) or  .select(['viznirAlbedo'])\n",
    "s2Col = ee.ImageCollection('COPERNICUS/S2_SR') \\\n",
    "            .filter(s2colFilter) \\\n",
    "            .map(prepS2) \\\n",
    "            .select(['visnirAlbedo']) # .select(['totalAlbedo']) or  .select(['viznirAlbedo'])\n",
    "landsatCol = oliCol.merge(etmCol).merge(tmCol).merge(tm4Col)\n",
    "multiSat = landsatCol.merge(s2Col).map(imRangeFilter).sort('system:time_start', True)\n",
    "# get the average  \n",
    "meanAlbedo = multiSat.filterDate('1984-01-01', '2004-12-31').mean()"
   ]
  },
  {
   "cell_type": "code",
   "execution_count": 18,
   "metadata": {},
   "outputs": [],
   "source": [
    "# https://developers.google.com/earth-engine/tutorials/community/intro-to-python-api-guiattard by https://github.com/guiattard\n",
    "def ee_array_to_df(arr, list_of_bands):\n",
    "    \"\"\"Transforms client-side ee.Image.getRegion array to pandas.DataFrame.\"\"\"\n",
    "    df = pd.DataFrame(arr)\n",
    "\n",
    "    # Rearrange the header.\n",
    "    headers = df.iloc[0]\n",
    "    df = pd.DataFrame(df.values[1:], columns=headers)\n",
    "\n",
    "    # Remove rows without data inside.\n",
    "    df = df[['longitude', 'latitude', 'time', *list_of_bands]].dropna()\n",
    "\n",
    "    # Convert the data to numeric values.\n",
    "    for band in list_of_bands:\n",
    "        df[band] = pd.to_numeric(df[band], errors='coerce')\n",
    "\n",
    "    # Convert the time field into a datetime.\n",
    "    df['datetime'] = pd.to_datetime(df['time'], unit='ms')\n",
    "\n",
    "    # Keep the columns of interest.\n",
    "    df = df[['time','datetime',  *list_of_bands]]\n",
    "\n",
    "    return df"
   ]
  },
  {
   "cell_type": "code",
   "execution_count": 19,
   "metadata": {},
   "outputs": [],
   "source": [
    "# cumulative.size().getInfo()\n",
    "point = multiSat.filterDate('2005-01-01', '2020-12-31').getRegion(poi, 90).getInfo()\n",
    "pointmean = meanAlbedo.reduceRegion(ee.Reducer.mean(), poi,90).getInfo()"
   ]
  },
  {
   "cell_type": "code",
   "execution_count": 20,
   "metadata": {},
   "outputs": [],
   "source": [
    "df = ee_array_to_df(point, ['viznirAlbedo'])\n",
    "df['year'] = df['datetime'].dt.year\n",
    "df['month'] = df['datetime'].dt.month\n",
    "\n",
    "df = df.groupby(['year', 'month']).mean().reset_index()\n",
    "df['day'] = 1\n",
    "\n",
    "df['anomaly'] = df['viznirAlbedo'] - pointmean.get('viznirAlbedo')\n",
    "df['albedo anomaly (cumsum)'] = df['anomaly'].cumsum()\n",
    "df['time'] = pd.to_datetime(df[['year', 'month', 'day']])\n",
    "df['station'] = 'NUK_L'\n",
    "dfall = pd.DataFrame() # comment after 1st run\n",
    "dfall = pd.concat([dfall, df])"
   ]
  },
  {
   "cell_type": "code",
   "execution_count": 23,
   "metadata": {},
   "outputs": [
    {
     "data": {
      "image/png": "[encoded data removed]",
      "text/plain": [
       "<Figure size 576x288 with 1 Axes>"
      ]
     },
     "metadata": {},
     "output_type": "display_data"
    }
   ],
   "source": [
    "fig, ax = plt.subplots(figsize=(8, 4))\n",
    "sns.set_theme(style=\"darkgrid\")\n",
    "SMALL_SIZE = 12\n",
    "MEDIUM_SIZE = 14\n",
    "BIGGER_SIZE = 20\n",
    "plt.rc('font', size=MEDIUM_SIZE)          # controls default text sizes\n",
    "plt.rc('axes', titlesize=MEDIUM_SIZE)     # fontsize of the axes title\n",
    "plt.rc('axes', labelsize=MEDIUM_SIZE)    # fontsize of the x and y labels\n",
    "plt.rc('xtick', labelsize=MEDIUM_SIZE)    # fontsize of the tick labels\n",
    "plt.rc('ytick', labelsize=MEDIUM_SIZE)    # fontsize of the tick labels\n",
    "plt.rc('legend', fontsize=MEDIUM_SIZE)    # legend fontsize\n",
    "plt.rc('figure', titlesize=MEDIUM_SIZE)  # fontsize of the figure title\n",
    "plt.rc('legend', title_fontsize=MEDIUM_SIZE)\n",
    "plt.rcParams[\"font.family\"] = \"Arial\"\n",
    "sns.lineplot(data=dfall.reset_index(), x='time', y='albedo anomaly (cumsum)', hue='station')\n",
    "ax.set(xlabel=\"\")\n",
    "fig.savefig(\"print/albedoAnomalyPoi.pdf\", dpi=300, bbox_inches=\"tight\")"
   ]
  },
  {
   "cell_type": "markdown",
   "metadata": {},
   "source": [
    "# pie chart of dark zone class"
   ]
  },
  {
   "cell_type": "code",
   "execution_count": 2,
   "metadata": {},
   "outputs": [],
   "source": [
    "df = pd.read_excel(r\"satellite spectra.xlsx\", sheet_name=\"dark class\")"
   ]
  },
  {
   "cell_type": "code",
   "execution_count": 29,
   "metadata": {},
   "outputs": [
    {
     "data": {
      "image/png": "[encoded data removed]",
      "text/plain": [
       "<Figure size 288x525.6 with 1 Axes>"
      ]
     },
     "metadata": {},
     "output_type": "display_data"
    }
   ],
   "source": [
    "\n",
    "fig, ax = plt.subplots(figsize=(4,7.3))\n",
    "SMALL_SIZE = 12\n",
    "MEDIUM_SIZE = 14\n",
    "BIGGER_SIZE = 16\n",
    "plt.rc('font', size=MEDIUM_SIZE)          # controls default text sizes\n",
    "plt.rc('axes', titlesize=MEDIUM_SIZE)     # fontsize of the axes title\n",
    "plt.rc('axes', labelsize=MEDIUM_SIZE)    # fontsize of the x and y labels\n",
    "plt.rc('xtick', labelsize=MEDIUM_SIZE)    # fontsize of the tick labels\n",
    "plt.rc('ytick', labelsize=MEDIUM_SIZE)    # fontsize of the tick labels\n",
    "plt.rc('legend', fontsize=MEDIUM_SIZE)    # legend fontsize\n",
    "plt.rc('figure', titlesize=BIGGER_SIZE)  # fontsize of the figure title\n",
    "ax.pie(df.area, labels = df.occurrence, labeldistance=None, colors=['#1f77b4', '#ff7f0e','#d62728'],autopct='%1.1f%%')\n",
    "ax.axis('equal')\n",
    "ax.legend(loc='lower center', title=\"occurrence class\")\n",
    "fig.savefig(\"print/qgis/pieDarkClass.png\", dpi=300,bbox_inches=\"tight\")"
   ]
  }
 ],
 "metadata": {
  "interpreter": {
   "hash": "2545903284817d58326c2b6cd0aa63ace3d30c673b9697d6672225518a7499b7"
  },
  "kernelspec": {
   "display_name": "Python 3.8.12 64-bit ('earth': conda)",
   "name": "python3"
  },
  "language_info": {
   "codemirror_mode": {
    "name": "ipython",
    "version": 3
   },
   "file_extension": ".py",
   "mimetype": "text/x-python",
   "name": "python",
   "nbconvert_exporter": "python",
   "pygments_lexer": "ipython3",
   "version": "3.8.0"
  },
  "orig_nbformat": 4
 },
 "nbformat": 4,
 "nbformat_minor": 2
}
