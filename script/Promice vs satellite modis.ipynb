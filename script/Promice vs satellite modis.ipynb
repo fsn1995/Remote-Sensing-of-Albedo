{
 "cells": [
  {
   "cell_type": "code",
   "execution_count": null,
   "metadata": {},
   "outputs": [],
   "source": [
    "import pandas as pd\n",
    "import numpy as np\n",
    "import os\n",
    "import glob\n",
    "import matplotlib.pyplot as plt\n",
    "from sklearn import linear_model\n",
    "# from scipy import stats\n",
    "import seaborn as sns\n",
    "import altair as alt\n",
    "import plotly.express as px"
   ]
  },
  {
   "cell_type": "markdown",
   "metadata": {},
   "source": [
    "## merge promice data to one dataframe"
   ]
  },
  {
   "cell_type": "code",
   "execution_count": null,
   "metadata": {},
   "outputs": [],
   "source": [
    "df = pd.read_csv('promice/promice.csv')\n",
    "df['Longitude'] = df['Longitude'] * -1"
   ]
  },
  {
   "cell_type": "code",
   "execution_count": null,
   "metadata": {},
   "outputs": [],
   "source": [
    "folderpath = \"promice/modis500m\"\n",
    "\n",
    "searchCriteria = \"*.csv\"\n",
    "globInput = os.path.join(folderpath, searchCriteria)\n",
    "csvPath = glob.glob(globInput)\n",
    "csvList = os.listdir(folderpath)"
   ]
  },
  {
   "cell_type": "code",
   "execution_count": null,
   "metadata": {},
   "outputs": [],
   "source": [
    "# daily  \n",
    "for i in range(len(csvList)):\n",
    "    # promice data\n",
    "    stationName = os.path.splitext(csvList[i])[0].replace(\"-\", \"*\")\n",
    "    index = df.index[df.Station == stationName][0]\n",
    "    url = df.url[index] # daily\n",
    "    # url = df.urlhourly[index]\n",
    "    dfs = pd.read_table(url, sep=r'\\s{1,}', engine='python')\n",
    "\n",
    "    dfs = dfs[['Albedo_theta<70d', 'LatitudeGPS_HDOP<1(degN)', 'LongitudeGPS_HDOP<1(degW)', 'Year', 'MonthOfYear', 'DayOfMonth','CloudCover']]\n",
    "    dfs = dfs.replace(-999, np.nan)\n",
    "    dfs['lon'] = dfs['LongitudeGPS_HDOP<1(degW)'].interpolate(method='linear',limit_direction='both') * -1\n",
    "    dfs['lat'] = dfs['LatitudeGPS_HDOP<1(degN)'].interpolate(method='linear',limit_direction='both')\n",
    "    dfs['datetime'] = pd.to_datetime(dict(year=dfs.Year, month=dfs.MonthOfYear, day = dfs.DayOfMonth))\n",
    "    # cloud cover less than 50% and albedo must be valid value\n",
    "    dfs = dfs[(dfs['Albedo_theta<70d'] > 0) & (dfs['CloudCover'] < 0.5)]\n",
    "    dfs['Station'] = stationName\n",
    "\n",
    "    # satellite data\n",
    "    dfr = pd.read_csv(csvPath[i])\n",
    "    dfr['Snow_Albedo_Daily_Tile'] = dfr['Snow_Albedo_Daily_Tile'] / 100\n",
    "    # dfr.datetime = pd.to_datetime(dfr.datetime).dt.date # keep only ymd\n",
    "    dfr.datetime = pd.to_datetime(dfr.datetime)\n",
    "\n",
    "    # join by datetime\n",
    "    # dfmerge = pd.merge(dfr, dfs, how='outer', on='datetime')\n",
    "    dfmerge = pd.merge_asof(dfr.sort_values('datetime'), dfs, on='datetime',allow_exact_matches=False, tolerance=pd.Timedelta(days=1) )\n",
    "    if i==0:\n",
    "        dfmerge.dropna().to_csv('promice vs satellite modis.csv', mode='w', index=False)\n",
    "    else:\n",
    "        dfmerge.dropna().to_csv('promice vs satellite modis.csv', mode='a', index=False, header=False)"
   ]
  },
  {
   "cell_type": "markdown",
   "metadata": {},
   "source": [
    "## Lienar Regression: PROMICE VS MODIS albedo"
   ]
  },
  {
   "cell_type": "code",
   "execution_count": null,
   "metadata": {},
   "outputs": [],
   "source": [
    "df = pd.read_csv(\"promice vs satellite modis.csv\")\n",
    "# ProfileReport(df)\n",
    "df = df[(df['MonthOfYear']>4) & (df['MonthOfYear']<10)] # (df['MonthOfYear']!=7\n",
    "# df = df[df['Albedo_theta<70d']<0.9]\n",
    "# df[['Blue', 'Green', 'Red', 'NIR', 'SWIR1', 'SWIR2']] = df[['Blue', 'Green', 'Red', 'NIR', 'SWIR1', 'SWIR2']] / 10000"
   ]
  },
  {
   "cell_type": "code",
   "execution_count": null,
   "metadata": {},
   "outputs": [],
   "source": [
    "boxplot = df.boxplot(column=['Snow_Albedo_Daily_Tile', 'Albedo_theta<70d'])"
   ]
  },
  {
   "cell_type": "code",
   "execution_count": null,
   "metadata": {},
   "outputs": [],
   "source": [
    "df.Station.value_counts().plot(kind='bar')"
   ]
  },
  {
   "cell_type": "code",
   "execution_count": null,
   "metadata": {},
   "outputs": [],
   "source": [
    "\n",
    "X = df[['Snow_Albedo_Daily_Tile']] \n",
    "# X = df[['Blue', 'Green', 'NIR', 'SWIR1', 'SWIR2']] \n",
    "y = df['Albedo_theta<70d'] \n",
    "\n",
    "# mask = df['MonthOfYear']>6 \n",
    "# y[mask] = y[mask]/1.1"
   ]
  },
  {
   "cell_type": "code",
   "execution_count": null,
   "metadata": {},
   "outputs": [],
   "source": [
    "ols = linear_model.LinearRegression()\n",
    "model = ols.fit(X, y)\n",
    "response = model.predict(X)\n",
    "r2 = model.score(X, y)"
   ]
  },
  {
   "cell_type": "code",
   "execution_count": null,
   "metadata": {},
   "outputs": [],
   "source": [
    "print('R\\N{SUPERSCRIPT TWO}: %.4f' % r2)\n",
    "print(model.coef_)\n",
    "# print(\"coefficients: Blue: %.4f, Green: %.4f, Red: %.4f, NIR: %.4f, SWIR1: %.4f, SWIR2: %.4f\" %(model.coef_[0], model.coef_[1], model.coef_[2], model.coef_[3], model.coef_[4], model.coef_[5]))\n",
    "# print(\"coefficients: Blue: %.4f, Red: %.4f, NIR: %.4f, SWIR1: %.4f, SWIR2: %.4f\" %(model.coef_[0], model.coef_[1], model.coef_[2], model.coef_[3], model.coef_[4]))\n",
    "print(\"intercept: %.4f\" % model.intercept_)\n",
    "len(df)"
   ]
  },
  {
   "cell_type": "code",
   "execution_count": null,
   "metadata": {},
   "outputs": [],
   "source": [
    "\n",
    "fig, ax = plt.subplots(figsize=(8, 8))\n",
    "# plt.sca(ax1)\n",
    "\n",
    "\n",
    "sns.set_theme(style=\"darkgrid\")\n",
    "sns.scatterplot(x=response, y=y, s=10 )\n",
    "sns.regplot(x=response, y=y, scatter=False, color='red',)\n",
    "SMALL_SIZE = 12\n",
    "MEDIUM_SIZE = 14\n",
    "BIGGER_SIZE = 20\n",
    "plt.rc('font', size=BIGGER_SIZE)          # controls default text sizes\n",
    "plt.rc('axes', titlesize=BIGGER_SIZE)     # fontsize of the axes title\n",
    "plt.rc('axes', labelsize=BIGGER_SIZE)    # fontsize of the x and y labels\n",
    "plt.rc('xtick', labelsize=BIGGER_SIZE)    # fontsize of the tick labels\n",
    "plt.rc('ytick', labelsize=BIGGER_SIZE)    # fontsize of the tick labels\n",
    "plt.rc('legend', fontsize=BIGGER_SIZE)    # legend fontsize\n",
    "plt.rc('figure', titlesize=BIGGER_SIZE)  # fontsize of the figure title\n",
    "plt.rcParams[\"font.family\"] = \"Arial\"\n",
    "# plt.plot([0,1], [0,1], color = 'white') # reference line\n",
    "plt.xlim(0, 1)\n",
    "plt.ylim(0, 1)\n",
    "ax.set(xlabel='Predicted Albedo (MODIS)', ylabel='Albedo PROMICE')\n",
    "ax.set_aspect('equal', 'box')\n",
    "# sns.histplot(x=response, y=y, bins=50, pthresh=.1, cmap=\"viridis\", cbar=True, cbar_kws={'label': 'frequency'})\n",
    "# sns.kdeplot(x=response, y=y, levels=5, color=\"w\", linewidths=1)\n",
    "fig.savefig(\"print/MODISalbedoPromice.png\", dpi=300, bbox_inches=\"tight\")"
   ]
  },
  {
   "cell_type": "code",
   "execution_count": null,
   "metadata": {},
   "outputs": [],
   "source": [
    "df['response'] = response\n",
    "alt.data_transformers.disable_max_rows() # this should be avoided but now let's disable the limit\n",
    "alt.Chart(df).mark_circle().encode(\n",
    "    x='response',\n",
    "    y='Albedo_theta<70d',\n",
    "    color='Station',\n",
    "    tooltip=['datetime:T','Station','response','Albedo_theta<70d']\n",
    ").interactive()\n",
    "\n",
    "# chart + chart.transform_regression('x', 'y').mark_line()"
   ]
  },
  {
   "cell_type": "code",
   "execution_count": null,
   "metadata": {},
   "outputs": [],
   "source": [
    "df['response'] = response\n",
    "alt.data_transformers.disable_max_rows() # this should be avoided but now let's disable the limit\n",
    "\n",
    "brush = alt.selection(type='interval')\n",
    "points = alt.Chart(df).mark_circle().encode(\n",
    "    x='response',\n",
    "    y='Albedo_theta<70d',\n",
    "    color=alt.condition(brush, 'Station:O', alt.value('grey')),\n",
    "    tooltip=['datetime:T','Station','response','Albedo_theta<70d']\n",
    ").add_selection(brush)\n",
    "# Base chart for data tables\n",
    "ranked_text = alt.Chart(df).mark_text().encode(\n",
    "    y=alt.Y('row_number:O',axis=None)\n",
    ").transform_window(\n",
    "    row_number='row_number()'\n",
    ").transform_filter(\n",
    "    brush\n",
    ").transform_window(\n",
    "    rank='rank(row_number)'\n",
    ").transform_filter(\n",
    "    alt.datum.rank<40\n",
    ")\n",
    "\n",
    "# Data Tables\n",
    "stationalt = ranked_text.encode(text='Station').properties(title='station')\n",
    "albedoalt = ranked_text.encode(text='Albedo_theta<70d:N').properties(title='Albedo')\n",
    "predictedalt = ranked_text.encode(text='response:N').properties(title='predicted albedo')\n",
    "timealt = ranked_text.encode(text='datetime:T').properties(title='time')\n",
    "text = alt.hconcat(stationalt, albedoalt, predictedalt, timealt) # Combine data tables\n",
    "\n",
    "# Build chart\n",
    "alt.hconcat(\n",
    "    points,\n",
    "    text\n",
    ").resolve_legend(\n",
    "    color=\"independent\"\n",
    ")\n",
    "# chart + chart.transform_regression('x', 'y').mark_line()"
   ]
  },
  {
   "cell_type": "code",
   "execution_count": null,
   "metadata": {},
   "outputs": [],
   "source": []
  }
 ],
 "metadata": {
  "interpreter": {
   "hash": "01eb7ea2538ab1a97da7b2187d14aece0956b1f1437de6b6682af2a419fa4d22"
  },
  "kernelspec": {
   "display_name": "Python 3.8.12 64-bit ('earth': conda)",
   "name": "python3"
  },
  "language_info": {
   "codemirror_mode": {
    "name": "ipython",
    "version": 3
   },
   "file_extension": ".py",
   "mimetype": "text/x-python",
   "name": "python",
   "nbconvert_exporter": "python",
   "pygments_lexer": "ipython3",
   "version": "3.8.12"
  },
  "orig_nbformat": 2
 },
 "nbformat": 4,
 "nbformat_minor": 2
}
